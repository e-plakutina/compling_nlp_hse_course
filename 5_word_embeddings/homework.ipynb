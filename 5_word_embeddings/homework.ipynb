{
  "cells": [
    {
      "cell_type": "markdown",
      "id": "a98604cb",
      "metadata": {
        "id": "a98604cb"
      },
      "source": [
        "Домашку будет легче делать в колабе (убедитесь, что у вас runtype с gpu)."
      ]
    },
    {
      "cell_type": "markdown",
      "id": "9c422aa0",
      "metadata": {
        "id": "9c422aa0"
      },
      "source": [
        "# Задание 1 (3 балла)"
      ]
    },
    {
      "cell_type": "markdown",
      "id": "e4a72790",
      "metadata": {
        "id": "e4a72790"
      },
      "source": [
        "Обучите word2vec модели с негативным семплированием (cbow и skip-gram) аналогично тому, как это было сделано в семинаре. Вам нужно изменить следующие пункты:\n",
        "1) добавьте лемматизацию в предобработку (любым способом)  \n",
        "2) измените размер окна в большую или меньшую сторону\n",
        "3) измените размерность итоговых векторов\n",
        "\n",
        "Выберете несколько не похожих по смыслу слов (не таких как в семинаре), и протестируйте полученные эмбединги (найдите ближайшие слова и оцените качество, как в семинаре).\n",
        "Постарайтесь обучать модели как можно дольше и на как можно большем количестве данных. (Но если у вас мало времени или ресурсов, то допустимо взять поменьше данных и поставить меньше эпох)"
      ]
    },
    {
      "cell_type": "code",
      "execution_count": 2,
      "id": "cde5fd96",
      "metadata": {
        "colab": {
          "base_uri": "https://localhost:8080/"
        },
        "collapsed": true,
        "id": "cde5fd96",
        "outputId": "c6992e1c-23ed-4e38-cb07-a4686cb9e62b"
      },
      "outputs": [
        {
          "output_type": "stream",
          "name": "stdout",
          "text": [
            "Requirement already satisfied: matplotlib in /usr/local/lib/python3.11/dist-packages (3.10.0)\n",
            "Requirement already satisfied: pandas in /usr/local/lib/python3.11/dist-packages (2.2.2)\n",
            "Requirement already satisfied: contourpy>=1.0.1 in /usr/local/lib/python3.11/dist-packages (from matplotlib) (1.3.1)\n",
            "Requirement already satisfied: cycler>=0.10 in /usr/local/lib/python3.11/dist-packages (from matplotlib) (0.12.1)\n",
            "Requirement already satisfied: fonttools>=4.22.0 in /usr/local/lib/python3.11/dist-packages (from matplotlib) (4.55.4)\n",
            "Requirement already satisfied: kiwisolver>=1.3.1 in /usr/local/lib/python3.11/dist-packages (from matplotlib) (1.4.8)\n",
            "Requirement already satisfied: numpy>=1.23 in /usr/local/lib/python3.11/dist-packages (from matplotlib) (1.26.4)\n",
            "Requirement already satisfied: packaging>=20.0 in /usr/local/lib/python3.11/dist-packages (from matplotlib) (24.2)\n",
            "Requirement already satisfied: pillow>=8 in /usr/local/lib/python3.11/dist-packages (from matplotlib) (11.1.0)\n",
            "Requirement already satisfied: pyparsing>=2.3.1 in /usr/local/lib/python3.11/dist-packages (from matplotlib) (3.2.1)\n",
            "Requirement already satisfied: python-dateutil>=2.7 in /usr/local/lib/python3.11/dist-packages (from matplotlib) (2.8.2)\n",
            "Requirement already satisfied: pytz>=2020.1 in /usr/local/lib/python3.11/dist-packages (from pandas) (2024.2)\n",
            "Requirement already satisfied: tzdata>=2022.7 in /usr/local/lib/python3.11/dist-packages (from pandas) (2025.1)\n",
            "Requirement already satisfied: six>=1.5 in /usr/local/lib/python3.11/dist-packages (from python-dateutil>=2.7->matplotlib) (1.17.0)\n",
            "Requirement already satisfied: keras in /usr/local/lib/python3.11/dist-packages (3.5.0)\n",
            "Collecting keras\n",
            "  Downloading keras-3.8.0-py3-none-any.whl.metadata (5.8 kB)\n",
            "Requirement already satisfied: absl-py in /usr/local/lib/python3.11/dist-packages (from keras) (1.4.0)\n",
            "Requirement already satisfied: numpy in /usr/local/lib/python3.11/dist-packages (from keras) (1.26.4)\n",
            "Requirement already satisfied: rich in /usr/local/lib/python3.11/dist-packages (from keras) (13.9.4)\n",
            "Requirement already satisfied: namex in /usr/local/lib/python3.11/dist-packages (from keras) (0.0.8)\n",
            "Requirement already satisfied: h5py in /usr/local/lib/python3.11/dist-packages (from keras) (3.12.1)\n",
            "Requirement already satisfied: optree in /usr/local/lib/python3.11/dist-packages (from keras) (0.14.0)\n",
            "Requirement already satisfied: ml-dtypes in /usr/local/lib/python3.11/dist-packages (from keras) (0.4.1)\n",
            "Requirement already satisfied: packaging in /usr/local/lib/python3.11/dist-packages (from keras) (24.2)\n",
            "Requirement already satisfied: typing-extensions>=4.5.0 in /usr/local/lib/python3.11/dist-packages (from optree->keras) (4.12.2)\n",
            "Requirement already satisfied: markdown-it-py>=2.2.0 in /usr/local/lib/python3.11/dist-packages (from rich->keras) (3.0.0)\n",
            "Requirement already satisfied: pygments<3.0.0,>=2.13.0 in /usr/local/lib/python3.11/dist-packages (from rich->keras) (2.18.0)\n",
            "Requirement already satisfied: mdurl~=0.1 in /usr/local/lib/python3.11/dist-packages (from markdown-it-py>=2.2.0->rich->keras) (0.1.2)\n",
            "Downloading keras-3.8.0-py3-none-any.whl (1.3 MB)\n",
            "\u001b[2K   \u001b[90m━━━━━━━━━━━━━━━━━━━━━━━━━━━━━━━━━━━━━━━━\u001b[0m \u001b[32m1.3/1.3 MB\u001b[0m \u001b[31m58.9 MB/s\u001b[0m eta \u001b[36m0:00:00\u001b[0m\n",
            "\u001b[?25hInstalling collected packages: keras\n",
            "  Attempting uninstall: keras\n",
            "    Found existing installation: keras 3.5.0\n",
            "    Uninstalling keras-3.5.0:\n",
            "      Successfully uninstalled keras-3.5.0\n",
            "Successfully installed keras-3.8.0\n"
          ]
        }
      ],
      "source": [
        "!pip install matplotlib pandas\n",
        "!pip install --upgrade keras\n",
        "# !pip install torch torchvision torchaudio"
      ]
    },
    {
      "cell_type": "code",
      "execution_count": 3,
      "id": "4f71d7cb",
      "metadata": {
        "id": "4f71d7cb"
      },
      "outputs": [],
      "source": [
        "# import tensorflow as tf\n",
        "import numpy as np\n",
        "import pandas as pd\n",
        "from string import punctuation\n",
        "from sklearn.model_selection import train_test_split\n",
        "from collections import Counter\n",
        "import matplotlib.pyplot as plt\n",
        "from sklearn.decomposition import TruncatedSVD\n",
        "from sklearn.feature_extraction.text import CountVectorizer\n",
        "from sklearn.metrics.pairwise import cosine_distances\n",
        "\n",
        "# from IPython.display import Image\n",
        "# from IPython.core.display import HTML\n",
        "%matplotlib inline\n",
        "\n",
        "from sklearn.linear_model import LogisticRegression\n",
        "from sklearn.metrics import classification_report\n",
        "\n",
        "\n",
        "import re\n",
        "\n",
        "from pymystem3 import Mystem"
      ]
    },
    {
      "cell_type": "code",
      "source": [
        "# в новой версии кераса можно использовать разные бекэнды, можно попробовать торч\n",
        "# если заменить на tensorflow или jax то код также будет работать\n",
        "# но нужно заранее установить нужный фреймворк\n",
        "\n",
        "import os\n",
        "os.environ[\"KERAS_BACKEND\"] = \"torch\"\n",
        "# os.environ[\"PYTORCH_ENABLE_MPS_FALLBACK\"] = \"1\"\n",
        "\n",
        "import torch\n",
        "# torch.set_default_device('cpu')\n",
        "\n",
        "import keras\n",
        "print(keras.__version__)"
      ],
      "metadata": {
        "colab": {
          "base_uri": "https://localhost:8080/"
        },
        "id": "L_l3ejnUvAUa",
        "outputId": "0af7b2fd-6a40-42ef-a424-44a983501532"
      },
      "id": "L_l3ejnUvAUa",
      "execution_count": 4,
      "outputs": [
        {
          "output_type": "stream",
          "name": "stdout",
          "text": [
            "3.8.0\n"
          ]
        }
      ]
    },
    {
      "cell_type": "code",
      "source": [
        "# в нашем корпусе 20к текстов\n",
        "wiki = open('wiki_data.txt').read().split('\\n')"
      ],
      "metadata": {
        "id": "9WMwvfd00kL2"
      },
      "id": "9WMwvfd00kL2",
      "execution_count": null,
      "outputs": []
    },
    {
      "cell_type": "markdown",
      "source": [
        "Предобрабатываем текст (лемматизируем его):"
      ],
      "metadata": {
        "id": "11KMAudcCqyk"
      },
      "id": "11KMAudcCqyk"
    },
    {
      "cell_type": "code",
      "source": [
        "mystem = Mystem()"
      ],
      "metadata": {
        "id": "LRr_Zda_vrBI"
      },
      "id": "LRr_Zda_vrBI",
      "execution_count": null,
      "outputs": []
    },
    {
      "cell_type": "code",
      "source": [
        "def preprocess(text):\n",
        "    tokens = re.sub('#+', ' ', text.lower())\n",
        "\n",
        "    lemmas = mystem.lemmatize(text)\n",
        "    tokens = [token.strip(punctuation) for token in lemmas if token.strip(punctuation)]\n",
        "\n",
        "    return tokens"
      ],
      "metadata": {
        "id": "ZNpjcjqU2mtE"
      },
      "id": "ZNpjcjqU2mtE",
      "execution_count": null,
      "outputs": []
    },
    {
      "cell_type": "markdown",
      "source": [
        "Создаем словарь:"
      ],
      "metadata": {
        "id": "ABUUX8rkCukl"
      },
      "id": "ABUUX8rkCukl"
    },
    {
      "cell_type": "code",
      "source": [
        "vocab = Counter()\n",
        "\n",
        "for text in wiki:\n",
        "    vocab.update(preprocess(text))"
      ],
      "metadata": {
        "id": "X04zoPXB2pAD"
      },
      "id": "X04zoPXB2pAD",
      "execution_count": null,
      "outputs": []
    },
    {
      "cell_type": "code",
      "source": [
        "filtered_vocab = set()\n",
        "\n",
        "for word in vocab:\n",
        "    if vocab[word] > 30:\n",
        "        filtered_vocab.add(word)"
      ],
      "metadata": {
        "id": "yEtmfr6R2plj"
      },
      "id": "yEtmfr6R2plj",
      "execution_count": null,
      "outputs": []
    },
    {
      "cell_type": "code",
      "source": [
        "word2id = {'PAD':0}\n",
        "\n",
        "for word in filtered_vocab:\n",
        "    word2id[word] = len(word2id)"
      ],
      "metadata": {
        "id": "maTlnqf62uS9"
      },
      "id": "maTlnqf62uS9",
      "execution_count": null,
      "outputs": []
    },
    {
      "cell_type": "code",
      "source": [
        "id2word = {i:word for word, i in word2id.items()}"
      ],
      "metadata": {
        "collapsed": true,
        "id": "VNrM5AWZ2u7X"
      },
      "id": "VNrM5AWZ2u7X",
      "execution_count": null,
      "outputs": []
    },
    {
      "cell_type": "markdown",
      "source": [
        "Токенизируем текст:"
      ],
      "metadata": {
        "id": "hMSO7sd2C5fA"
      },
      "id": "hMSO7sd2C5fA"
    },
    {
      "cell_type": "code",
      "source": [
        "sentences = []\n",
        "\n",
        "for text in wiki:\n",
        "    tokens = preprocess(text)\n",
        "    if not tokens:\n",
        "        continue\n",
        "    ids = [word2id[token] for token in tokens if token in word2id]\n",
        "    sentences.append(ids)"
      ],
      "metadata": {
        "id": "-qR2poKj2yic"
      },
      "id": "-qR2poKj2yic",
      "execution_count": null,
      "outputs": []
    },
    {
      "cell_type": "markdown",
      "source": [
        "Функция для нахождения наиболее похожих слов:"
      ],
      "metadata": {
        "id": "CwrXP8Y5jQof"
      },
      "id": "CwrXP8Y5jQof"
    },
    {
      "cell_type": "code",
      "source": [
        "def most_similar(word, embeddings):\n",
        "    similar = [id2word[i] for i in\n",
        "               cosine_distances(embeddings[word2id[word]].reshape(1, -1), embeddings).argsort()[0][:10]]\n",
        "    return similar"
      ],
      "metadata": {
        "id": "fxj2BCosjWpa"
      },
      "id": "fxj2BCosjWpa",
      "execution_count": null,
      "outputs": []
    },
    {
      "cell_type": "markdown",
      "source": [
        "**Negative sampling**"
      ],
      "metadata": {
        "id": "XOcjaifmZXTb"
      },
      "id": "XOcjaifmZXTb"
    },
    {
      "cell_type": "code",
      "source": [
        "vocab_size = len(id2word)"
      ],
      "metadata": {
        "id": "wym4qE334K_F"
      },
      "id": "wym4qE334K_F",
      "execution_count": null,
      "outputs": []
    },
    {
      "cell_type": "markdown",
      "source": [
        "Skip Gram:"
      ],
      "metadata": {
        "id": "mC9ddQisjk42"
      },
      "id": "mC9ddQisjk42"
    },
    {
      "cell_type": "code",
      "source": [
        "def gen_batches_sg(sentences, window = 5, batch_size=1000):\n",
        "\n",
        "    # параметр window задает его целиком\n",
        "    # нам нужно поделить его пополам на левую и правую часть\n",
        "    # когда делится неровно, то левая часть больше на 1\n",
        "    left_context_length = (window/2).__ceil__() # округлить в большую сторону\n",
        "    right_context_length = window // 2 # округлить в меньшую сторону\n",
        "\n",
        "    while True:\n",
        "        X_target = []\n",
        "        X_context = []\n",
        "        y = []\n",
        "\n",
        "        for sent in sentences:\n",
        "            for i in range(len(sent)-1):\n",
        "                word = sent[i]\n",
        "                context = sent[max(0, i-left_context_length):i] + sent[i+1:i+right_context_length]\n",
        "                for context_word in context:\n",
        "                    X_target.append(word)\n",
        "                    X_context.append(context_word)\n",
        "                    y.append(1)\n",
        "\n",
        "                    X_target.append(word)\n",
        "                    X_context.append(np.random.randint(vocab_size))\n",
        "                    y.append(0)\n",
        "\n",
        "                    if len(X_target) >= batch_size:\n",
        "                        X_target = np.array(X_target)\n",
        "                        X_context = np.array(X_context)\n",
        "                        y = np.array(y)\n",
        "                        yield ((X_target, X_context), y)\n",
        "                        X_target = []\n",
        "                        X_context = []\n",
        "                        y = []"
      ],
      "metadata": {
        "id": "4VK3BtbN4Po2"
      },
      "id": "4VK3BtbN4Po2",
      "execution_count": null,
      "outputs": []
    },
    {
      "cell_type": "code",
      "source": [
        "inputs_target_sg = keras.layers.Input(shape=(1,))\n",
        "inputs_context_sg = keras.layers.Input(shape=(1,))\n",
        "\n",
        "\n",
        "embeddings_target_sg = keras.layers.Embedding(input_dim=len(word2id), output_dim=200)(inputs_target_sg, )\n",
        "embeddings_context_sg = keras.layers.Embedding(input_dim=len(word2id), output_dim=200)(inputs_context_sg, )\n",
        "\n",
        "target_sg = keras.layers.Flatten()(embeddings_target_sg)\n",
        "context_sg = keras.layers.Flatten()(embeddings_context_sg)\n",
        "\n",
        "dot_sg = keras.layers.Dot(1)([target_sg, context_sg])\n",
        "outputs_sg = keras.layers.Activation(activation='sigmoid')(dot_sg)\n",
        "\n",
        "model_sg = keras.Model(inputs=[inputs_target_sg, inputs_context_sg],\n",
        "                       outputs=outputs_sg)\n",
        "optimizer_sg = keras.optimizers.Adam(learning_rate=0.001)\n",
        "model_sg.compile(optimizer=optimizer_sg,\n",
        "              loss='binary_crossentropy',\n",
        "              metrics=['accuracy'])"
      ],
      "metadata": {
        "id": "qi71YYaF4Vo1"
      },
      "id": "qi71YYaF4Vo1",
      "execution_count": null,
      "outputs": []
    },
    {
      "cell_type": "code",
      "source": [
        "model_sg.fit(gen_batches_sg(sentences[:10000], window=10),\n",
        "          validation_data=gen_batches_sg(sentences[10000:],  window=10),\n",
        "          batch_size=1000,\n",
        "          steps_per_epoch=10000,\n",
        "          validation_steps=30,\n",
        "          epochs=20)"
      ],
      "metadata": {
        "id": "kwESGnR54ZI4",
        "colab": {
          "base_uri": "https://localhost:8080/"
        },
        "outputId": "abd1e404-79be-43b4-a1ad-fb3d50405f7c"
      },
      "id": "kwESGnR54ZI4",
      "execution_count": null,
      "outputs": [
        {
          "output_type": "stream",
          "name": "stdout",
          "text": [
            "Epoch 1/20\n",
            "\u001b[1m10000/10000\u001b[0m \u001b[32m━━━━━━━━━━━━━━━━━━━━\u001b[0m\u001b[37m\u001b[0m \u001b[1m102s\u001b[0m 10ms/step - accuracy: 0.8761 - loss: 0.2861 - val_accuracy: 0.8749 - val_loss: 0.2904\n",
            "Epoch 2/20\n",
            "\u001b[1m10000/10000\u001b[0m \u001b[32m━━━━━━━━━━━━━━━━━━━━\u001b[0m\u001b[37m\u001b[0m \u001b[1m102s\u001b[0m 10ms/step - accuracy: 0.8747 - loss: 0.3034 - val_accuracy: 0.8772 - val_loss: 0.2974\n",
            "Epoch 3/20\n",
            "\u001b[1m10000/10000\u001b[0m \u001b[32m━━━━━━━━━━━━━━━━━━━━\u001b[0m\u001b[37m\u001b[0m \u001b[1m103s\u001b[0m 10ms/step - accuracy: 0.8748 - loss: 0.3020 - val_accuracy: 0.8619 - val_loss: 0.3272\n",
            "Epoch 4/20\n",
            "\u001b[1m10000/10000\u001b[0m \u001b[32m━━━━━━━━━━━━━━━━━━━━\u001b[0m\u001b[37m\u001b[0m \u001b[1m102s\u001b[0m 10ms/step - accuracy: 0.8749 - loss: 0.2994 - val_accuracy: 0.8637 - val_loss: 0.3500\n",
            "Epoch 5/20\n",
            "\u001b[1m10000/10000\u001b[0m \u001b[32m━━━━━━━━━━━━━━━━━━━━\u001b[0m\u001b[37m\u001b[0m \u001b[1m112s\u001b[0m 11ms/step - accuracy: 0.8795 - loss: 0.2897 - val_accuracy: 0.8664 - val_loss: 0.3284\n",
            "Epoch 6/20\n",
            "\u001b[1m10000/10000\u001b[0m \u001b[32m━━━━━━━━━━━━━━━━━━━━\u001b[0m\u001b[37m\u001b[0m \u001b[1m106s\u001b[0m 11ms/step - accuracy: 0.8741 - loss: 0.2990 - val_accuracy: 0.8900 - val_loss: 0.2744\n",
            "Epoch 7/20\n",
            "\u001b[1m10000/10000\u001b[0m \u001b[32m━━━━━━━━━━━━━━━━━━━━\u001b[0m\u001b[37m\u001b[0m \u001b[1m118s\u001b[0m 12ms/step - accuracy: 0.8909 - loss: 0.2660 - val_accuracy: 0.8788 - val_loss: 0.2853\n",
            "Epoch 8/20\n",
            "\u001b[1m10000/10000\u001b[0m \u001b[32m━━━━━━━━━━━━━━━━━━━━\u001b[0m\u001b[37m\u001b[0m \u001b[1m114s\u001b[0m 11ms/step - accuracy: 0.8771 - loss: 0.2936 - val_accuracy: 0.8534 - val_loss: 0.3504\n",
            "Epoch 9/20\n",
            "\u001b[1m10000/10000\u001b[0m \u001b[32m━━━━━━━━━━━━━━━━━━━━\u001b[0m\u001b[37m\u001b[0m \u001b[1m107s\u001b[0m 11ms/step - accuracy: 0.8814 - loss: 0.2776 - val_accuracy: 0.8839 - val_loss: 0.2991\n",
            "Epoch 10/20\n",
            "\u001b[1m10000/10000\u001b[0m \u001b[32m━━━━━━━━━━━━━━━━━━━━\u001b[0m\u001b[37m\u001b[0m \u001b[1m103s\u001b[0m 10ms/step - accuracy: 0.8805 - loss: 0.2812 - val_accuracy: 0.9119 - val_loss: 0.2364\n",
            "Epoch 11/20\n",
            "\u001b[1m10000/10000\u001b[0m \u001b[32m━━━━━━━━━━━━━━━━━━━━\u001b[0m\u001b[37m\u001b[0m \u001b[1m102s\u001b[0m 10ms/step - accuracy: 0.8794 - loss: 0.2850 - val_accuracy: 0.8907 - val_loss: 0.2653\n",
            "Epoch 12/20\n",
            "\u001b[1m10000/10000\u001b[0m \u001b[32m━━━━━━━━━━━━━━━━━━━━\u001b[0m\u001b[37m\u001b[0m \u001b[1m102s\u001b[0m 10ms/step - accuracy: 0.8785 - loss: 0.2854 - val_accuracy: 0.8716 - val_loss: 0.3050\n",
            "Epoch 13/20\n",
            "\u001b[1m10000/10000\u001b[0m \u001b[32m━━━━━━━━━━━━━━━━━━━━\u001b[0m\u001b[37m\u001b[0m \u001b[1m103s\u001b[0m 10ms/step - accuracy: 0.8831 - loss: 0.2761 - val_accuracy: 0.8773 - val_loss: 0.2990\n",
            "Epoch 14/20\n",
            "\u001b[1m10000/10000\u001b[0m \u001b[32m━━━━━━━━━━━━━━━━━━━━\u001b[0m\u001b[37m\u001b[0m \u001b[1m103s\u001b[0m 10ms/step - accuracy: 0.8780 - loss: 0.2862 - val_accuracy: 0.8813 - val_loss: 0.2766\n",
            "Epoch 15/20\n",
            "\u001b[1m10000/10000\u001b[0m \u001b[32m━━━━━━━━━━━━━━━━━━━━\u001b[0m\u001b[37m\u001b[0m \u001b[1m103s\u001b[0m 10ms/step - accuracy: 0.8968 - loss: 0.2482 - val_accuracy: 0.8732 - val_loss: 0.3010\n",
            "Epoch 16/20\n",
            "\u001b[1m10000/10000\u001b[0m \u001b[32m━━━━━━━━━━━━━━━━━━━━\u001b[0m\u001b[37m\u001b[0m \u001b[1m100s\u001b[0m 10ms/step - accuracy: 0.8800 - loss: 0.2831 - val_accuracy: 0.8744 - val_loss: 0.3095\n",
            "Epoch 17/20\n",
            "\u001b[1m10000/10000\u001b[0m \u001b[32m━━━━━━━━━━━━━━━━━━━━\u001b[0m\u001b[37m\u001b[0m \u001b[1m100s\u001b[0m 10ms/step - accuracy: 0.8828 - loss: 0.2735 - val_accuracy: 0.8866 - val_loss: 0.2797\n",
            "Epoch 18/20\n",
            "\u001b[1m10000/10000\u001b[0m \u001b[32m━━━━━━━━━━━━━━━━━━━━\u001b[0m\u001b[37m\u001b[0m \u001b[1m102s\u001b[0m 10ms/step - accuracy: 0.8822 - loss: 0.2760 - val_accuracy: 0.8881 - val_loss: 0.2784\n",
            "Epoch 19/20\n",
            "\u001b[1m10000/10000\u001b[0m \u001b[32m━━━━━━━━━━━━━━━━━━━━\u001b[0m\u001b[37m\u001b[0m \u001b[1m103s\u001b[0m 10ms/step - accuracy: 0.8805 - loss: 0.2797 - val_accuracy: 0.8839 - val_loss: 0.2815\n",
            "Epoch 20/20\n",
            "\u001b[1m10000/10000\u001b[0m \u001b[32m━━━━━━━━━━━━━━━━━━━━\u001b[0m\u001b[37m\u001b[0m \u001b[1m100s\u001b[0m 10ms/step - accuracy: 0.8802 - loss: 0.2802 - val_accuracy: 0.8562 - val_loss: 0.3412\n"
          ]
        },
        {
          "output_type": "execute_result",
          "data": {
            "text/plain": [
              "<keras.src.callbacks.history.History at 0x7c9229d3c250>"
            ]
          },
          "metadata": {},
          "execution_count": 24
        }
      ]
    },
    {
      "cell_type": "code",
      "source": [
        "print(model_sg.history.history.keys())\n",
        "# summarize history for accuracy\n",
        "plt.plot(model_sg.history.history['loss'])\n",
        "plt.plot(model_sg.history.history['val_loss'])\n",
        "plt.title('Skip-Gram model loss')\n",
        "plt.ylabel('loss')\n",
        "plt.xlabel('epoch')\n",
        "plt.legend(['train', 'val'], loc='upper left')\n",
        "plt.show()"
      ],
      "metadata": {
        "colab": {
          "base_uri": "https://localhost:8080/",
          "height": 489
        },
        "id": "pU_qD6GUJSKO",
        "outputId": "d906d812-607e-40e0-a26f-e10966da4f25"
      },
      "id": "pU_qD6GUJSKO",
      "execution_count": null,
      "outputs": [
        {
          "output_type": "stream",
          "name": "stdout",
          "text": [
            "dict_keys(['accuracy', 'loss', 'val_accuracy', 'val_loss'])\n"
          ]
        },
        {
          "output_type": "display_data",
          "data": {
            "text/plain": [
              "<Figure size 640x480 with 1 Axes>"
            ],
            "image/png": "[encoded data removed]"
          },
          "metadata": {}
        }
      ]
    },
    {
      "cell_type": "code",
      "source": [
        "embeddings_sg = model_sg.layers[2].get_weights()[0]"
      ],
      "metadata": {
        "id": "Q1q6_Pqd4de2"
      },
      "id": "Q1q6_Pqd4de2",
      "execution_count": null,
      "outputs": []
    },
    {
      "cell_type": "code",
      "source": [
        "most_similar('лягушка', embeddings_sg)"
      ],
      "metadata": {
        "id": "zN7vm56E4hG-",
        "colab": {
          "base_uri": "https://localhost:8080/"
        },
        "outputId": "78ceebf9-f263-45b1-93b5-b2fabd6d1a4d"
      },
      "id": "zN7vm56E4hG-",
      "execution_count": null,
      "outputs": [
        {
          "output_type": "execute_result",
          "data": {
            "text/plain": [
              "['лягушка',\n",
              " 'питаться',\n",
              " 'насекомое',\n",
              " 'бурый',\n",
              " 'яйцо',\n",
              " 'озерный',\n",
              " 'красноватый',\n",
              " 'клюв',\n",
              " 'змей',\n",
              " 'муравей']"
            ]
          },
          "metadata": {},
          "execution_count": 27
        }
      ]
    },
    {
      "cell_type": "code",
      "source": [
        "most_similar('эпоха', embeddings_sg)"
      ],
      "metadata": {
        "colab": {
          "base_uri": "https://localhost:8080/"
        },
        "id": "23_pJ2tNIm4P",
        "outputId": "29a8b343-4593-46ba-d144-7e638be65a29"
      },
      "id": "23_pJ2tNIm4P",
      "execution_count": null,
      "outputs": [
        {
          "output_type": "execute_result",
          "data": {
            "text/plain": [
              "['эпоха',\n",
              " 'палеолит',\n",
              " 'неолит',\n",
              " 'династия',\n",
              " 'поздний',\n",
              " 'древний',\n",
              " 'царство',\n",
              " 'датироваться',\n",
              " 'XIX',\n",
              " 'барокко']"
            ]
          },
          "metadata": {},
          "execution_count": 28
        }
      ]
    },
    {
      "cell_type": "code",
      "source": [
        "most_similar('дорога', embeddings_sg)"
      ],
      "metadata": {
        "colab": {
          "base_uri": "https://localhost:8080/"
        },
        "id": "CQ1PjsWnIqff",
        "outputId": "43880b68-6939-4be5-d5d1-35c7a97775c9"
      },
      "id": "CQ1PjsWnIqff",
      "execution_count": null,
      "outputs": [
        {
          "output_type": "execute_result",
          "data": {
            "text/plain": [
              "['дорога',\n",
              " 'железный',\n",
              " 'станция',\n",
              " 'трасса',\n",
              " 'ветка',\n",
              " 'шоссе',\n",
              " 'автомобильный',\n",
              " 'железнодорожный',\n",
              " 'автодорога',\n",
              " 'вокзал']"
            ]
          },
          "metadata": {},
          "execution_count": 29
        }
      ]
    },
    {
      "cell_type": "markdown",
      "source": [
        "CBOW:"
      ],
      "metadata": {
        "id": "qHp3Q4HvpS-X"
      },
      "id": "qHp3Q4HvpS-X"
    },
    {
      "cell_type": "code",
      "source": [
        "def gen_batches_cbow(sentences, window = 5, batch_size=1000):\n",
        "\n",
        "    # параметр window задает его целиком\n",
        "    # нам нужно поделить его пополам на левую и правую часть\n",
        "    # когда делится неровно, то левая часть больше на 1\n",
        "    left_context_length = (window/2).__ceil__() # округлить в большую сторону\n",
        "    right_context_length = window // 2 # округлить в меньшую сторону\n",
        "\n",
        "    while True:\n",
        "        X_target = []\n",
        "        X_context = []\n",
        "        y = []\n",
        "\n",
        "        for sent in sentences:\n",
        "            for i in range(len(sent)-1):\n",
        "                word = sent[i]\n",
        "                context = sent[max(0, i-left_context_length):i] + sent[i+1:i+right_context_length]\n",
        "\n",
        "                X_target.append(word)\n",
        "                X_context.append(context)\n",
        "                y.append(1)\n",
        "\n",
        "                X_target.append(np.random.randint(vocab_size))\n",
        "                X_context.append(context)\n",
        "                y.append(0)\n",
        "\n",
        "                if len(X_target) == batch_size:\n",
        "                    X_target = np.array(X_target)\n",
        "                    X_context = keras.preprocessing.sequence.pad_sequences(X_context, maxlen=window)\n",
        "                    y = np.array(y)\n",
        "                    yield ((X_target, X_context), y)\n",
        "                    X_target = []\n",
        "                    X_context = []\n",
        "                    y = []"
      ],
      "metadata": {
        "id": "1jVqwsRb4SWG"
      },
      "id": "1jVqwsRb4SWG",
      "execution_count": null,
      "outputs": []
    },
    {
      "cell_type": "code",
      "source": [
        "inputs_target_cbow = keras.layers.Input(shape=(1,))\n",
        "inputs_context_cbow = keras.layers.Input(shape=(10,))\n",
        "\n",
        "\n",
        "embeddings_target_cbow = keras.layers.Embedding(input_dim=len(word2id), output_dim=200)(inputs_target_cbow, )\n",
        "embeddings_context_cbow = keras.layers.Embedding(input_dim=len(word2id), output_dim=200)(inputs_context_cbow, )\n",
        "\n",
        "target_cbow = keras.layers.Flatten()(embeddings_target_cbow)\n",
        "context_cbow = keras.layers.Lambda(lambda x: x.sum(axis=1))(embeddings_context_cbow)\n",
        "dot_cbow = keras.layers.Dot(1)([target_cbow, context_cbow])\n",
        "\n",
        "# полученную близость нужно преобразовать в вероятность\n",
        "# когда она одна используется не софтмакс и сигмоида\n",
        "outputs_cbow = keras.layers.Activation(activation='sigmoid')(dot_cbow)\n",
        "\n",
        "model_cbow = keras.Model(inputs=[inputs_target_cbow, inputs_context_cbow],\n",
        "                       outputs=outputs_cbow)\n",
        "\n",
        "\n",
        "optimizer_cbow = keras.optimizers.Adam(learning_rate=0.001)\n",
        "model_cbow.compile(optimizer=optimizer_cbow,\n",
        "              loss='binary_crossentropy',\n",
        "              metrics=['accuracy'])"
      ],
      "metadata": {
        "id": "sreBR3bw4h2F"
      },
      "id": "sreBR3bw4h2F",
      "execution_count": null,
      "outputs": []
    },
    {
      "cell_type": "code",
      "source": [
        "model_cbow.fit(gen_batches_cbow(sentences[:10000], window=10),\n",
        "          validation_data=gen_batches_cbow(sentences[10000:],  window=10),\n",
        "          batch_size=1000,\n",
        "          steps_per_epoch=5000,\n",
        "          validation_steps=30,\n",
        "          epochs=20)"
      ],
      "metadata": {
        "id": "vwVvvsSA4qsg",
        "colab": {
          "base_uri": "https://localhost:8080/"
        },
        "outputId": "167bfa3f-6faf-4d1e-ee1b-fcc4dca5a015"
      },
      "id": "vwVvvsSA4qsg",
      "execution_count": null,
      "outputs": [
        {
          "output_type": "stream",
          "name": "stdout",
          "text": [
            "Epoch 1/20\n",
            "\u001b[1m5000/5000\u001b[0m \u001b[32m━━━━━━━━━━━━━━━━━━━━\u001b[0m\u001b[37m\u001b[0m \u001b[1m65s\u001b[0m 13ms/step - accuracy: 0.8717 - loss: 0.3044 - val_accuracy: 0.9098 - val_loss: 0.2316\n",
            "Epoch 2/20\n",
            "\u001b[1m5000/5000\u001b[0m \u001b[32m━━━━━━━━━━━━━━━━━━━━\u001b[0m\u001b[37m\u001b[0m \u001b[1m64s\u001b[0m 13ms/step - accuracy: 0.9123 - loss: 0.2164 - val_accuracy: 0.9268 - val_loss: 0.1836\n",
            "Epoch 3/20\n",
            "\u001b[1m5000/5000\u001b[0m \u001b[32m━━━━━━━━━━━━━━━━━━━━\u001b[0m\u001b[37m\u001b[0m \u001b[1m64s\u001b[0m 13ms/step - accuracy: 0.9278 - loss: 0.1773 - val_accuracy: 0.9214 - val_loss: 0.1949\n",
            "Epoch 4/20\n",
            "\u001b[1m5000/5000\u001b[0m \u001b[32m━━━━━━━━━━━━━━━━━━━━\u001b[0m\u001b[37m\u001b[0m \u001b[1m65s\u001b[0m 13ms/step - accuracy: 0.9359 - loss: 0.1572 - val_accuracy: 0.9149 - val_loss: 0.2549\n",
            "Epoch 5/20\n",
            "\u001b[1m5000/5000\u001b[0m \u001b[32m━━━━━━━━━━━━━━━━━━━━\u001b[0m\u001b[37m\u001b[0m \u001b[1m66s\u001b[0m 13ms/step - accuracy: 0.9413 - loss: 0.1440 - val_accuracy: 0.9212 - val_loss: 0.2187\n",
            "Epoch 6/20\n",
            "\u001b[1m5000/5000\u001b[0m \u001b[32m━━━━━━━━━━━━━━━━━━━━\u001b[0m\u001b[37m\u001b[0m \u001b[1m65s\u001b[0m 13ms/step - accuracy: 0.9457 - loss: 0.1335 - val_accuracy: 0.9262 - val_loss: 0.1993\n",
            "Epoch 7/20\n",
            "\u001b[1m5000/5000\u001b[0m \u001b[32m━━━━━━━━━━━━━━━━━━━━\u001b[0m\u001b[37m\u001b[0m \u001b[1m64s\u001b[0m 13ms/step - accuracy: 0.9504 - loss: 0.1228 - val_accuracy: 0.9192 - val_loss: 0.2177\n",
            "Epoch 8/20\n",
            "\u001b[1m5000/5000\u001b[0m \u001b[32m━━━━━━━━━━━━━━━━━━━━\u001b[0m\u001b[37m\u001b[0m \u001b[1m66s\u001b[0m 13ms/step - accuracy: 0.9531 - loss: 0.1168 - val_accuracy: 0.9314 - val_loss: 0.2105\n",
            "Epoch 9/20\n",
            "\u001b[1m5000/5000\u001b[0m \u001b[32m━━━━━━━━━━━━━━━━━━━━\u001b[0m\u001b[37m\u001b[0m \u001b[1m70s\u001b[0m 14ms/step - accuracy: 0.9569 - loss: 0.1078 - val_accuracy: 0.9276 - val_loss: 0.2150\n",
            "Epoch 10/20\n",
            "\u001b[1m5000/5000\u001b[0m \u001b[32m━━━━━━━━━━━━━━━━━━━━\u001b[0m\u001b[37m\u001b[0m \u001b[1m66s\u001b[0m 13ms/step - accuracy: 0.9598 - loss: 0.1021 - val_accuracy: 0.9194 - val_loss: 0.2519\n",
            "Epoch 11/20\n",
            "\u001b[1m5000/5000\u001b[0m \u001b[32m━━━━━━━━━━━━━━━━━━━━\u001b[0m\u001b[37m\u001b[0m \u001b[1m69s\u001b[0m 14ms/step - accuracy: 0.9614 - loss: 0.0993 - val_accuracy: 0.9225 - val_loss: 0.2556\n",
            "Epoch 12/20\n",
            "\u001b[1m5000/5000\u001b[0m \u001b[32m━━━━━━━━━━━━━━━━━━━━\u001b[0m\u001b[37m\u001b[0m \u001b[1m67s\u001b[0m 13ms/step - accuracy: 0.9656 - loss: 0.0908 - val_accuracy: 0.9326 - val_loss: 0.2065\n",
            "Epoch 13/20\n",
            "\u001b[1m5000/5000\u001b[0m \u001b[32m━━━━━━━━━━━━━━━━━━━━\u001b[0m\u001b[37m\u001b[0m \u001b[1m65s\u001b[0m 13ms/step - accuracy: 0.9677 - loss: 0.0857 - val_accuracy: 0.9241 - val_loss: 0.2446\n",
            "Epoch 14/20\n",
            "\u001b[1m5000/5000\u001b[0m \u001b[32m━━━━━━━━━━━━━━━━━━━━\u001b[0m\u001b[37m\u001b[0m \u001b[1m69s\u001b[0m 14ms/step - accuracy: 0.9675 - loss: 0.0873 - val_accuracy: 0.9244 - val_loss: 0.2703\n",
            "Epoch 15/20\n",
            "\u001b[1m5000/5000\u001b[0m \u001b[32m━━━━━━━━━━━━━━━━━━━━\u001b[0m\u001b[37m\u001b[0m \u001b[1m64s\u001b[0m 13ms/step - accuracy: 0.9683 - loss: 0.0858 - val_accuracy: 0.9189 - val_loss: 0.3036\n",
            "Epoch 16/20\n",
            "\u001b[1m5000/5000\u001b[0m \u001b[32m━━━━━━━━━━━━━━━━━━━━\u001b[0m\u001b[37m\u001b[0m \u001b[1m65s\u001b[0m 13ms/step - accuracy: 0.9705 - loss: 0.0808 - val_accuracy: 0.9237 - val_loss: 0.2866\n",
            "Epoch 17/20\n",
            "\u001b[1m5000/5000\u001b[0m \u001b[32m━━━━━━━━━━━━━━━━━━━━\u001b[0m\u001b[37m\u001b[0m \u001b[1m64s\u001b[0m 13ms/step - accuracy: 0.9714 - loss: 0.0792 - val_accuracy: 0.9213 - val_loss: 0.2834\n",
            "Epoch 18/20\n",
            "\u001b[1m5000/5000\u001b[0m \u001b[32m━━━━━━━━━━━━━━━━━━━━\u001b[0m\u001b[37m\u001b[0m \u001b[1m64s\u001b[0m 13ms/step - accuracy: 0.9720 - loss: 0.0785 - val_accuracy: 0.9206 - val_loss: 0.3256\n",
            "Epoch 19/20\n",
            "\u001b[1m5000/5000\u001b[0m \u001b[32m━━━━━━━━━━━━━━━━━━━━\u001b[0m\u001b[37m\u001b[0m \u001b[1m66s\u001b[0m 13ms/step - accuracy: 0.9732 - loss: 0.0757 - val_accuracy: 0.9200 - val_loss: 0.3173\n",
            "Epoch 20/20\n",
            "\u001b[1m5000/5000\u001b[0m \u001b[32m━━━━━━━━━━━━━━━━━━━━\u001b[0m\u001b[37m\u001b[0m \u001b[1m65s\u001b[0m 13ms/step - accuracy: 0.9739 - loss: 0.0735 - val_accuracy: 0.9157 - val_loss: 0.3885\n"
          ]
        },
        {
          "output_type": "execute_result",
          "data": {
            "text/plain": [
              "<keras.src.callbacks.history.History at 0x7c922a1dd810>"
            ]
          },
          "metadata": {},
          "execution_count": 33
        }
      ]
    },
    {
      "cell_type": "code",
      "source": [
        "print(model_cbow.history.history.keys())\n",
        "# summarize history for accuracy\n",
        "plt.plot(model_cbow.history.history['loss'])\n",
        "plt.plot(model_cbow.history.history['val_loss'])\n",
        "plt.title('CBOW model loss')\n",
        "plt.ylabel('loss')\n",
        "plt.xlabel('epoch')\n",
        "plt.legend(['train', 'val'], loc='upper left')\n",
        "plt.show()"
      ],
      "metadata": {
        "colab": {
          "base_uri": "https://localhost:8080/",
          "height": 489
        },
        "id": "KeuUC6pQKA2_",
        "outputId": "c268b936-e0a7-465f-eb99-8f11e5f2e288"
      },
      "id": "KeuUC6pQKA2_",
      "execution_count": null,
      "outputs": [
        {
          "output_type": "stream",
          "name": "stdout",
          "text": [
            "dict_keys(['accuracy', 'loss', 'val_accuracy', 'val_loss'])\n"
          ]
        },
        {
          "output_type": "display_data",
          "data": {
            "text/plain": [
              "<Figure size 640x480 with 1 Axes>"
            ],
            "image/png": "[encoded data removed]"
          },
          "metadata": {}
        }
      ]
    },
    {
      "cell_type": "code",
      "source": [
        "embeddings_cbow = model_cbow.layers[2].get_weights()[0]"
      ],
      "metadata": {
        "id": "ijuQOnWN4s9D"
      },
      "id": "ijuQOnWN4s9D",
      "execution_count": null,
      "outputs": []
    },
    {
      "cell_type": "code",
      "source": [
        "most_similar('потеря', embeddings_cbow)"
      ],
      "metadata": {
        "id": "CrsYwZ7O4ukM",
        "colab": {
          "base_uri": "https://localhost:8080/"
        },
        "outputId": "d3badd15-e3b2-4844-9f78-076ffb195623"
      },
      "id": "CrsYwZ7O4ukM",
      "execution_count": null,
      "outputs": [
        {
          "output_type": "execute_result",
          "data": {
            "text/plain": [
              "['потеря',\n",
              " 'понести',\n",
              " 'нарушение',\n",
              " 'нападение',\n",
              " 'концентрация',\n",
              " 'нагрузка',\n",
              " 'устойчивость',\n",
              " 'снижение',\n",
              " 'потерять',\n",
              " 'повышение']"
            ]
          },
          "metadata": {},
          "execution_count": 36
        }
      ]
    },
    {
      "cell_type": "code",
      "source": [
        "most_similar('документ', embeddings_cbow)"
      ],
      "metadata": {
        "colab": {
          "base_uri": "https://localhost:8080/"
        },
        "id": "S0KjX8cUSDo2",
        "outputId": "ee48ef70-13bc-41cd-bac1-e852d2b55fe3"
      },
      "id": "S0KjX8cUSDo2",
      "execution_count": null,
      "outputs": [
        {
          "output_type": "execute_result",
          "data": {
            "text/plain": [
              "['документ',\n",
              " 'отчет',\n",
              " 'информация',\n",
              " 'документация',\n",
              " 'запись',\n",
              " 'предоставлять',\n",
              " 'заявление',\n",
              " 'список',\n",
              " 'материал',\n",
              " 'свидетельствовать']"
            ]
          },
          "metadata": {},
          "execution_count": 40
        }
      ]
    },
    {
      "cell_type": "code",
      "source": [
        "most_similar('власть', embeddings_cbow)"
      ],
      "metadata": {
        "colab": {
          "base_uri": "https://localhost:8080/"
        },
        "id": "bQe9ZcOgScyZ",
        "outputId": "52ba53e8-477b-4789-874f-406c4e7b71f6"
      },
      "id": "bQe9ZcOgScyZ",
      "execution_count": null,
      "outputs": [
        {
          "output_type": "execute_result",
          "data": {
            "text/plain": [
              "['власть',\n",
              " 'правительство',\n",
              " 'командование',\n",
              " 'совет',\n",
              " 'граница',\n",
              " 'комитет',\n",
              " 'руководство',\n",
              " 'парламент',\n",
              " 'администрация',\n",
              " 'опека']"
            ]
          },
          "metadata": {},
          "execution_count": 38
        }
      ]
    },
    {
      "cell_type": "code",
      "source": [
        "most_similar('лягушка', embeddings_cbow)"
      ],
      "metadata": {
        "colab": {
          "base_uri": "https://localhost:8080/"
        },
        "id": "mRmim-UFTLAt",
        "outputId": "aa1007f6-1ebb-49e9-8e54-ada73eaa865b"
      },
      "id": "mRmim-UFTLAt",
      "execution_count": null,
      "outputs": [
        {
          "output_type": "execute_result",
          "data": {
            "text/plain": [
              "['лягушка',\n",
              " 'озерный',\n",
              " 'наси',\n",
              " 'Paphiopedilum',\n",
              " 'теос',\n",
              " 'гау',\n",
              " 'минцлов',\n",
              " 'горенга',\n",
              " 'лукулл',\n",
              " 'белокалитвинский']"
            ]
          },
          "metadata": {},
          "execution_count": 39
        }
      ]
    },
    {
      "cell_type": "markdown",
      "source": [
        "P.s. изменила размер окна в большую сторону (с 5 до 10) и размерность уменьшила с 300 до 200"
      ],
      "metadata": {
        "id": "FvZ5KgBdIjwH"
      },
      "id": "FvZ5KgBdIjwH"
    },
    {
      "cell_type": "markdown",
      "id": "c3b61b7c",
      "metadata": {
        "id": "c3b61b7c"
      },
      "source": [
        "# Задание 2 (2 балла)"
      ]
    },
    {
      "cell_type": "markdown",
      "id": "66eff080",
      "metadata": {
        "id": "66eff080"
      },
      "source": [
        "Обучите 1 word2vec и 1 fastext модель в gensim. В каждой из модели нужно задать все параметры, которые мы разбирали на семинаре. Заданные значения должны отличаться от дефолтных и от тех, что мы использовали на семинаре."
      ]
    },
    {
      "cell_type": "code",
      "execution_count": null,
      "id": "986c2018",
      "metadata": {
        "id": "986c2018",
        "colab": {
          "base_uri": "https://localhost:8080/"
        },
        "outputId": "a0efcd9f-6f1d-4585-c458-d7ad359f61f1"
      },
      "outputs": [
        {
          "output_type": "stream",
          "name": "stdout",
          "text": [
            "Requirement already satisfied: gensim in /usr/local/lib/python3.11/dist-packages (4.3.3)\n",
            "Requirement already satisfied: numpy<2.0,>=1.18.5 in /usr/local/lib/python3.11/dist-packages (from gensim) (1.26.4)\n",
            "Requirement already satisfied: scipy<1.14.0,>=1.7.0 in /usr/local/lib/python3.11/dist-packages (from gensim) (1.13.1)\n",
            "Requirement already satisfied: smart-open>=1.8.1 in /usr/local/lib/python3.11/dist-packages (from gensim) (7.1.0)\n",
            "Requirement already satisfied: wrapt in /usr/local/lib/python3.11/dist-packages (from smart-open>=1.8.1->gensim) (1.17.0)\n"
          ]
        }
      ],
      "source": [
        "!pip install gensim"
      ]
    },
    {
      "cell_type": "code",
      "execution_count": null,
      "id": "e5035bdc",
      "metadata": {
        "id": "e5035bdc"
      },
      "outputs": [],
      "source": [
        "import gensim"
      ]
    },
    {
      "cell_type": "code",
      "source": [
        "wiki = open('wiki_data.txt', encoding='utf8').read().split('\\n')"
      ],
      "metadata": {
        "id": "qvVODyV0Jl4A"
      },
      "id": "qvVODyV0Jl4A",
      "execution_count": null,
      "outputs": []
    },
    {
      "cell_type": "code",
      "source": [
        "texts = [preprocess(text) for text in wiki]"
      ],
      "metadata": {
        "id": "7pJRSO_cJmyU"
      },
      "id": "7pJRSO_cJmyU",
      "execution_count": null,
      "outputs": []
    },
    {
      "cell_type": "markdown",
      "source": [
        "word2vec:"
      ],
      "metadata": {
        "id": "JmkZpJohT53Z"
      },
      "id": "JmkZpJohT53Z"
    },
    {
      "cell_type": "code",
      "source": [
        "%%time\n",
        "w2v = gensim.models.Word2Vec(texts,\n",
        "                             vector_size=200,\n",
        "                             min_count=20,\n",
        "                             max_vocab_size=15000,\n",
        "                             window=8,\n",
        "                             epochs=15,\n",
        "                             sg=0,\n",
        "                             hs=1,\n",
        "                             negative=0,\n",
        "                             sample=1e-4,\n",
        "                             ns_exponent=0.9,\n",
        "                             cbow_mean=0\n",
        "                            )"
      ],
      "metadata": {
        "colab": {
          "base_uri": "https://localhost:8080/"
        },
        "id": "itmuwo-kP8qd",
        "outputId": "a21ae04a-9585-45ca-fa42-c45142488815"
      },
      "id": "itmuwo-kP8qd",
      "execution_count": null,
      "outputs": [
        {
          "output_type": "stream",
          "name": "stdout",
          "text": [
            "CPU times: user 3min 44s, sys: 1.83 s, total: 3min 46s\n",
            "Wall time: 2min 18s\n"
          ]
        }
      ]
    },
    {
      "cell_type": "code",
      "source": [
        "w2v.wv.most_similar('документ')"
      ],
      "metadata": {
        "colab": {
          "base_uri": "https://localhost:8080/"
        },
        "id": "cbf_AF1IQA3i",
        "outputId": "ddc1ce5f-ae9c-4819-8f3e-b834f187e894"
      },
      "id": "cbf_AF1IQA3i",
      "execution_count": null,
      "outputs": [
        {
          "output_type": "execute_result",
          "data": {
            "text/plain": [
              "[('источник', 0.4643053710460663),\n",
              " ('письмо', 0.44286787509918213),\n",
              " ('свидетельство', 0.4369949698448181),\n",
              " ('архив', 0.4297162592411041),\n",
              " ('текст', 0.4142262041568756),\n",
              " ('информация', 0.4031939208507538),\n",
              " ('отчет', 0.3967662751674652),\n",
              " ('сведение', 0.3952940106391907),\n",
              " ('фрагмент', 0.3814762234687805),\n",
              " ('материал', 0.3777908384799957)]"
            ]
          },
          "metadata": {},
          "execution_count": 22
        }
      ]
    },
    {
      "cell_type": "markdown",
      "source": [
        "fasttext:"
      ],
      "metadata": {
        "id": "r2fv5-AFT9n3"
      },
      "id": "r2fv5-AFT9n3"
    },
    {
      "cell_type": "code",
      "source": [
        "%%time\n",
        "ft = gensim.models.FastText(texts,\n",
        "                            vector_size=250,\n",
        "                            min_count=15,\n",
        "                            window=7,\n",
        "                            epochs=15,\n",
        "                            sg=1,\n",
        "                            min_n=3,\n",
        "                            max_n=5,\n",
        "                            hs=0,\n",
        "                            negative=15,\n",
        "                            sample=1e-4,\n",
        "                            ns_exponent=0.7\n",
        "                            )"
      ],
      "metadata": {
        "colab": {
          "base_uri": "https://localhost:8080/"
        },
        "id": "9sfNCVl5UFLL",
        "outputId": "9879ec49-fb78-433b-d712-f436cd3d1e0a"
      },
      "id": "9sfNCVl5UFLL",
      "execution_count": null,
      "outputs": [
        {
          "output_type": "stream",
          "name": "stdout",
          "text": [
            "CPU times: user 1h 18min 23s, sys: 10.7 s, total: 1h 18min 33s\n",
            "Wall time: 47min 48s\n"
          ]
        }
      ]
    },
    {
      "cell_type": "code",
      "source": [
        "ft.wv.most_similar('документ')"
      ],
      "metadata": {
        "colab": {
          "base_uri": "https://localhost:8080/"
        },
        "id": "W4Gg6zC_Yt_W",
        "outputId": "569e664d-4abb-4961-9a8c-7364bf2ed4f9"
      },
      "id": "W4Gg6zC_Yt_W",
      "execution_count": null,
      "outputs": [
        {
          "output_type": "execute_result",
          "data": {
            "text/plain": [
              "[('документация', 0.7459463477134705),\n",
              " ('документально', 0.6327784061431885),\n",
              " ('документальный', 0.5734773278236389),\n",
              " ('архив', 0.526361882686615),\n",
              " ('архивный', 0.5224393010139465),\n",
              " ('свидетельство', 0.4979795217514038),\n",
              " ('письменный', 0.46820932626724243),\n",
              " ('упоминание', 0.46723800897598267),\n",
              " ('рукопись', 0.4462232291698456),\n",
              " ('упоминаться', 0.436975359916687)]"
            ]
          },
          "metadata": {},
          "execution_count": 27
        }
      ]
    },
    {
      "cell_type": "code",
      "source": [
        "ft.wv.most_similar('елизавета')"
      ],
      "metadata": {
        "colab": {
          "base_uri": "https://localhost:8080/"
        },
        "id": "p-_b36NEj87m",
        "outputId": "fbafef2d-512e-4ac1-c534-1608539b0a0d"
      },
      "id": "p-_b36NEj87m",
      "execution_count": null,
      "outputs": [
        {
          "output_type": "execute_result",
          "data": {
            "text/plain": [
              "[('елизаветинский', 0.688785970211029),\n",
              " ('федоровна', 0.6101689338684082),\n",
              " ('петровна', 0.5731965899467468),\n",
              " ('королева', 0.561959445476532),\n",
              " ('княгиня', 0.5591099858283997),\n",
              " ('мария', 0.5547892451286316),\n",
              " ('алексеевна', 0.5468712449073792),\n",
              " ('герцогиня', 0.5433425903320312),\n",
              " ('императрица', 0.5315408110618591),\n",
              " ('княжна', 0.5289910435676575)]"
            ]
          },
          "metadata": {},
          "execution_count": 28
        }
      ]
    },
    {
      "cell_type": "code",
      "source": [
        "ft.wv.most_similar('лягушка')"
      ],
      "metadata": {
        "colab": {
          "base_uri": "https://localhost:8080/"
        },
        "id": "NNxzsojZmDeM",
        "outputId": "3e4ba854-9cab-4083-da2e-106cf6cebfd4"
      },
      "id": "NNxzsojZmDeM",
      "execution_count": null,
      "outputs": [
        {
          "output_type": "execute_result",
          "data": {
            "text/plain": [
              "[('жаба', 0.5816457867622375),\n",
              " ('земноводный', 0.5699822902679443),\n",
              " ('пресноводный', 0.5377301573753357),\n",
              " ('варан', 0.5359843373298645),\n",
              " ('популяция', 0.5343573689460754),\n",
              " ('salvator', 0.5330958962440491),\n",
              " ('нерпа', 0.5248491168022156),\n",
              " ('ракообразный', 0.5237681269645691),\n",
              " ('поедать', 0.5223864912986755),\n",
              " ('Varanus', 0.5213496685028076)]"
            ]
          },
          "metadata": {},
          "execution_count": 29
        }
      ]
    },
    {
      "cell_type": "markdown",
      "id": "e4bb928c",
      "metadata": {
        "id": "e4bb928c"
      },
      "source": [
        "# Задание 3 (3 балла)"
      ]
    },
    {
      "cell_type": "markdown",
      "id": "3019b0d1",
      "metadata": {
        "id": "3019b0d1"
      },
      "source": [
        "Используя датасет для классификации (labeled.csv), обучите классификатор на базе эмбеддингов. Оцените качество на отложенной выборке.   \n",
        "В качестве эмбеддинг модели вы можете использовать одну из моделей обученных в предыдущем задании или использовать одну из предобученных моделей с rusvectores (удостоверьтесь что правильно воспроизводите предобработку в этом случае!)  \n",
        "Для того, чтобы построить эмбединг целого текста, усредните вектора отдельных слов в один общий вектор.\n",
        "В качестве алгоритма классификации используйте LogisicticRegression (можете попробовать SGDClassifier, чтобы было побыстрее)  \n",
        "F1 мера должна быть выше 20%."
      ]
    },
    {
      "cell_type": "markdown",
      "source": [
        "Возьмем обученную модель fasttext из задания 2"
      ],
      "metadata": {
        "id": "Xfd8-hNdvazx"
      },
      "id": "Xfd8-hNdvazx"
    },
    {
      "cell_type": "markdown",
      "source": [
        "Загружаем данные:"
      ],
      "metadata": {
        "id": "d9CdWH5jwnle"
      },
      "id": "d9CdWH5jwnle"
    },
    {
      "cell_type": "code",
      "source": [
        "data = pd.read_csv('labeled.csv')\n",
        "data['tokens'] = data['comment'].apply(preprocess)"
      ],
      "metadata": {
        "id": "8rJddXBHwgY4"
      },
      "id": "8rJddXBHwgY4",
      "execution_count": null,
      "outputs": []
    },
    {
      "cell_type": "markdown",
      "source": [
        "Создаем эмбеддинги:"
      ],
      "metadata": {
        "id": "hV4EEXDfwvma"
      },
      "id": "hV4EEXDfwvma"
    },
    {
      "cell_type": "code",
      "source": [
        "def get_sentence_embedding(tokens, model):\n",
        "    vectors = [model.wv[token] for token in tokens if token in model.wv]\n",
        "    if vectors:\n",
        "        return np.mean(vectors, axis=0)\n",
        "    return np.zeros(model.vector_size)"
      ],
      "metadata": {
        "id": "GRID_NGowqNN"
      },
      "id": "GRID_NGowqNN",
      "execution_count": null,
      "outputs": []
    },
    {
      "cell_type": "code",
      "source": [
        "data['embedding'] = data['tokens'].apply(lambda x: get_sentence_embedding(x, ft))\n",
        "X = np.vstack(data['embedding'].values)\n",
        "y = data['toxic'].values"
      ],
      "metadata": {
        "id": "E_eo7wJYw4s7"
      },
      "id": "E_eo7wJYw4s7",
      "execution_count": null,
      "outputs": []
    },
    {
      "cell_type": "markdown",
      "source": [
        "Разделяем данные на обучающую и тестовую выборки:"
      ],
      "metadata": {
        "id": "VRe8iJb6xr44"
      },
      "id": "VRe8iJb6xr44"
    },
    {
      "cell_type": "code",
      "source": [
        "X_train, X_test, y_train, y_test = train_test_split(X, y, test_size=0.1, random_state=42)"
      ],
      "metadata": {
        "id": "d56cKwf3w9em"
      },
      "id": "d56cKwf3w9em",
      "execution_count": null,
      "outputs": []
    },
    {
      "cell_type": "markdown",
      "source": [
        "LogReg:"
      ],
      "metadata": {
        "id": "1ztYv5lTxzff"
      },
      "id": "1ztYv5lTxzff"
    },
    {
      "cell_type": "code",
      "source": [
        "clf = LogisticRegression(C=0.4, class_weight='balanced', solver='saga', max_iter=200, tol=1e-4)\n",
        "clf.fit(X_train, y_train) # обучение"
      ],
      "metadata": {
        "colab": {
          "base_uri": "https://localhost:8080/"
        },
        "id": "e1gYmuwHxGTi",
        "outputId": "74aef4f3-023f-48c5-e05f-51e8838f16d2"
      },
      "id": "e1gYmuwHxGTi",
      "execution_count": null,
      "outputs": [
        {
          "output_type": "execute_result",
          "data": {
            "text/plain": [
              "LogisticRegression(C=0.4, class_weight='balanced', max_iter=200, solver='saga')"
            ],
            "text/html": [
              "<style>#sk-container-id-1 {\n",
              "  /* Definition of color scheme common for light and dark mode */\n",
              "  --sklearn-color-text: #000;\n",
              "  --sklearn-color-text-muted: #666;\n",
              "  --sklearn-color-line: gray;\n",
              "  /* Definition of color scheme for unfitted estimators */\n",
              "  --sklearn-color-unfitted-level-0: #fff5e6;\n",
              "  --sklearn-color-unfitted-level-1: #f6e4d2;\n",
              "  --sklearn-color-unfitted-level-2: #ffe0b3;\n",
              "  --sklearn-color-unfitted-level-3: chocolate;\n",
              "  /* Definition of color scheme for fitted estimators */\n",
              "  --sklearn-color-fitted-level-0: #f0f8ff;\n",
              "  --sklearn-color-fitted-level-1: #d4ebff;\n",
              "  --sklearn-color-fitted-level-2: #b3dbfd;\n",
              "  --sklearn-color-fitted-level-3: cornflowerblue;\n",
              "\n",
              "  /* Specific color for light theme */\n",
              "  --sklearn-color-text-on-default-background: var(--sg-text-color, var(--theme-code-foreground, var(--jp-content-font-color1, black)));\n",
              "  --sklearn-color-background: var(--sg-background-color, var(--theme-background, var(--jp-layout-color0, white)));\n",
              "  --sklearn-color-border-box: var(--sg-text-color, var(--theme-code-foreground, var(--jp-content-font-color1, black)));\n",
              "  --sklearn-color-icon: #696969;\n",
              "\n",
              "  @media (prefers-color-scheme: dark) {\n",
              "    /* Redefinition of color scheme for dark theme */\n",
              "    --sklearn-color-text-on-default-background: var(--sg-text-color, var(--theme-code-foreground, var(--jp-content-font-color1, white)));\n",
              "    --sklearn-color-background: var(--sg-background-color, var(--theme-background, var(--jp-layout-color0, #111)));\n",
              "    --sklearn-color-border-box: var(--sg-text-color, var(--theme-code-foreground, var(--jp-content-font-color1, white)));\n",
              "    --sklearn-color-icon: #878787;\n",
              "  }\n",
              "}\n",
              "\n",
              "#sk-container-id-1 {\n",
              "  color: var(--sklearn-color-text);\n",
              "}\n",
              "\n",
              "#sk-container-id-1 pre {\n",
              "  padding: 0;\n",
              "}\n",
              "\n",
              "#sk-container-id-1 input.sk-hidden--visually {\n",
              "  border: 0;\n",
              "  clip: rect(1px 1px 1px 1px);\n",
              "  clip: rect(1px, 1px, 1px, 1px);\n",
              "  height: 1px;\n",
              "  margin: -1px;\n",
              "  overflow: hidden;\n",
              "  padding: 0;\n",
              "  position: absolute;\n",
              "  width: 1px;\n",
              "}\n",
              "\n",
              "#sk-container-id-1 div.sk-dashed-wrapped {\n",
              "  border: 1px dashed var(--sklearn-color-line);\n",
              "  margin: 0 0.4em 0.5em 0.4em;\n",
              "  box-sizing: border-box;\n",
              "  padding-bottom: 0.4em;\n",
              "  background-color: var(--sklearn-color-background);\n",
              "}\n",
              "\n",
              "#sk-container-id-1 div.sk-container {\n",
              "  /* jupyter's `normalize.less` sets `[hidden] { display: none; }`\n",
              "     but bootstrap.min.css set `[hidden] { display: none !important; }`\n",
              "     so we also need the `!important` here to be able to override the\n",
              "     default hidden behavior on the sphinx rendered scikit-learn.org.\n",
              "     See: https://github.com/scikit-learn/scikit-learn/issues/21755 */\n",
              "  display: inline-block !important;\n",
              "  position: relative;\n",
              "}\n",
              "\n",
              "#sk-container-id-1 div.sk-text-repr-fallback {\n",
              "  display: none;\n",
              "}\n",
              "\n",
              "div.sk-parallel-item,\n",
              "div.sk-serial,\n",
              "div.sk-item {\n",
              "  /* draw centered vertical line to link estimators */\n",
              "  background-image: linear-gradient(var(--sklearn-color-text-on-default-background), var(--sklearn-color-text-on-default-background));\n",
              "  background-size: 2px 100%;\n",
              "  background-repeat: no-repeat;\n",
              "  background-position: center center;\n",
              "}\n",
              "\n",
              "/* Parallel-specific style estimator block */\n",
              "\n",
              "#sk-container-id-1 div.sk-parallel-item::after {\n",
              "  content: \"\";\n",
              "  width: 100%;\n",
              "  border-bottom: 2px solid var(--sklearn-color-text-on-default-background);\n",
              "  flex-grow: 1;\n",
              "}\n",
              "\n",
              "#sk-container-id-1 div.sk-parallel {\n",
              "  display: flex;\n",
              "  align-items: stretch;\n",
              "  justify-content: center;\n",
              "  background-color: var(--sklearn-color-background);\n",
              "  position: relative;\n",
              "}\n",
              "\n",
              "#sk-container-id-1 div.sk-parallel-item {\n",
              "  display: flex;\n",
              "  flex-direction: column;\n",
              "}\n",
              "\n",
              "#sk-container-id-1 div.sk-parallel-item:first-child::after {\n",
              "  align-self: flex-end;\n",
              "  width: 50%;\n",
              "}\n",
              "\n",
              "#sk-container-id-1 div.sk-parallel-item:last-child::after {\n",
              "  align-self: flex-start;\n",
              "  width: 50%;\n",
              "}\n",
              "\n",
              "#sk-container-id-1 div.sk-parallel-item:only-child::after {\n",
              "  width: 0;\n",
              "}\n",
              "\n",
              "/* Serial-specific style estimator block */\n",
              "\n",
              "#sk-container-id-1 div.sk-serial {\n",
              "  display: flex;\n",
              "  flex-direction: column;\n",
              "  align-items: center;\n",
              "  background-color: var(--sklearn-color-background);\n",
              "  padding-right: 1em;\n",
              "  padding-left: 1em;\n",
              "}\n",
              "\n",
              "\n",
              "/* Toggleable style: style used for estimator/Pipeline/ColumnTransformer box that is\n",
              "clickable and can be expanded/collapsed.\n",
              "- Pipeline and ColumnTransformer use this feature and define the default style\n",
              "- Estimators will overwrite some part of the style using the `sk-estimator` class\n",
              "*/\n",
              "\n",
              "/* Pipeline and ColumnTransformer style (default) */\n",
              "\n",
              "#sk-container-id-1 div.sk-toggleable {\n",
              "  /* Default theme specific background. It is overwritten whether we have a\n",
              "  specific estimator or a Pipeline/ColumnTransformer */\n",
              "  background-color: var(--sklearn-color-background);\n",
              "}\n",
              "\n",
              "/* Toggleable label */\n",
              "#sk-container-id-1 label.sk-toggleable__label {\n",
              "  cursor: pointer;\n",
              "  display: flex;\n",
              "  width: 100%;\n",
              "  margin-bottom: 0;\n",
              "  padding: 0.5em;\n",
              "  box-sizing: border-box;\n",
              "  text-align: center;\n",
              "  align-items: start;\n",
              "  justify-content: space-between;\n",
              "  gap: 0.5em;\n",
              "}\n",
              "\n",
              "#sk-container-id-1 label.sk-toggleable__label .caption {\n",
              "  font-size: 0.6rem;\n",
              "  font-weight: lighter;\n",
              "  color: var(--sklearn-color-text-muted);\n",
              "}\n",
              "\n",
              "#sk-container-id-1 label.sk-toggleable__label-arrow:before {\n",
              "  /* Arrow on the left of the label */\n",
              "  content: \"▸\";\n",
              "  float: left;\n",
              "  margin-right: 0.25em;\n",
              "  color: var(--sklearn-color-icon);\n",
              "}\n",
              "\n",
              "#sk-container-id-1 label.sk-toggleable__label-arrow:hover:before {\n",
              "  color: var(--sklearn-color-text);\n",
              "}\n",
              "\n",
              "/* Toggleable content - dropdown */\n",
              "\n",
              "#sk-container-id-1 div.sk-toggleable__content {\n",
              "  max-height: 0;\n",
              "  max-width: 0;\n",
              "  overflow: hidden;\n",
              "  text-align: left;\n",
              "  /* unfitted */\n",
              "  background-color: var(--sklearn-color-unfitted-level-0);\n",
              "}\n",
              "\n",
              "#sk-container-id-1 div.sk-toggleable__content.fitted {\n",
              "  /* fitted */\n",
              "  background-color: var(--sklearn-color-fitted-level-0);\n",
              "}\n",
              "\n",
              "#sk-container-id-1 div.sk-toggleable__content pre {\n",
              "  margin: 0.2em;\n",
              "  border-radius: 0.25em;\n",
              "  color: var(--sklearn-color-text);\n",
              "  /* unfitted */\n",
              "  background-color: var(--sklearn-color-unfitted-level-0);\n",
              "}\n",
              "\n",
              "#sk-container-id-1 div.sk-toggleable__content.fitted pre {\n",
              "  /* unfitted */\n",
              "  background-color: var(--sklearn-color-fitted-level-0);\n",
              "}\n",
              "\n",
              "#sk-container-id-1 input.sk-toggleable__control:checked~div.sk-toggleable__content {\n",
              "  /* Expand drop-down */\n",
              "  max-height: 200px;\n",
              "  max-width: 100%;\n",
              "  overflow: auto;\n",
              "}\n",
              "\n",
              "#sk-container-id-1 input.sk-toggleable__control:checked~label.sk-toggleable__label-arrow:before {\n",
              "  content: \"▾\";\n",
              "}\n",
              "\n",
              "/* Pipeline/ColumnTransformer-specific style */\n",
              "\n",
              "#sk-container-id-1 div.sk-label input.sk-toggleable__control:checked~label.sk-toggleable__label {\n",
              "  color: var(--sklearn-color-text);\n",
              "  background-color: var(--sklearn-color-unfitted-level-2);\n",
              "}\n",
              "\n",
              "#sk-container-id-1 div.sk-label.fitted input.sk-toggleable__control:checked~label.sk-toggleable__label {\n",
              "  background-color: var(--sklearn-color-fitted-level-2);\n",
              "}\n",
              "\n",
              "/* Estimator-specific style */\n",
              "\n",
              "/* Colorize estimator box */\n",
              "#sk-container-id-1 div.sk-estimator input.sk-toggleable__control:checked~label.sk-toggleable__label {\n",
              "  /* unfitted */\n",
              "  background-color: var(--sklearn-color-unfitted-level-2);\n",
              "}\n",
              "\n",
              "#sk-container-id-1 div.sk-estimator.fitted input.sk-toggleable__control:checked~label.sk-toggleable__label {\n",
              "  /* fitted */\n",
              "  background-color: var(--sklearn-color-fitted-level-2);\n",
              "}\n",
              "\n",
              "#sk-container-id-1 div.sk-label label.sk-toggleable__label,\n",
              "#sk-container-id-1 div.sk-label label {\n",
              "  /* The background is the default theme color */\n",
              "  color: var(--sklearn-color-text-on-default-background);\n",
              "}\n",
              "\n",
              "/* On hover, darken the color of the background */\n",
              "#sk-container-id-1 div.sk-label:hover label.sk-toggleable__label {\n",
              "  color: var(--sklearn-color-text);\n",
              "  background-color: var(--sklearn-color-unfitted-level-2);\n",
              "}\n",
              "\n",
              "/* Label box, darken color on hover, fitted */\n",
              "#sk-container-id-1 div.sk-label.fitted:hover label.sk-toggleable__label.fitted {\n",
              "  color: var(--sklearn-color-text);\n",
              "  background-color: var(--sklearn-color-fitted-level-2);\n",
              "}\n",
              "\n",
              "/* Estimator label */\n",
              "\n",
              "#sk-container-id-1 div.sk-label label {\n",
              "  font-family: monospace;\n",
              "  font-weight: bold;\n",
              "  display: inline-block;\n",
              "  line-height: 1.2em;\n",
              "}\n",
              "\n",
              "#sk-container-id-1 div.sk-label-container {\n",
              "  text-align: center;\n",
              "}\n",
              "\n",
              "/* Estimator-specific */\n",
              "#sk-container-id-1 div.sk-estimator {\n",
              "  font-family: monospace;\n",
              "  border: 1px dotted var(--sklearn-color-border-box);\n",
              "  border-radius: 0.25em;\n",
              "  box-sizing: border-box;\n",
              "  margin-bottom: 0.5em;\n",
              "  /* unfitted */\n",
              "  background-color: var(--sklearn-color-unfitted-level-0);\n",
              "}\n",
              "\n",
              "#sk-container-id-1 div.sk-estimator.fitted {\n",
              "  /* fitted */\n",
              "  background-color: var(--sklearn-color-fitted-level-0);\n",
              "}\n",
              "\n",
              "/* on hover */\n",
              "#sk-container-id-1 div.sk-estimator:hover {\n",
              "  /* unfitted */\n",
              "  background-color: var(--sklearn-color-unfitted-level-2);\n",
              "}\n",
              "\n",
              "#sk-container-id-1 div.sk-estimator.fitted:hover {\n",
              "  /* fitted */\n",
              "  background-color: var(--sklearn-color-fitted-level-2);\n",
              "}\n",
              "\n",
              "/* Specification for estimator info (e.g. \"i\" and \"?\") */\n",
              "\n",
              "/* Common style for \"i\" and \"?\" */\n",
              "\n",
              ".sk-estimator-doc-link,\n",
              "a:link.sk-estimator-doc-link,\n",
              "a:visited.sk-estimator-doc-link {\n",
              "  float: right;\n",
              "  font-size: smaller;\n",
              "  line-height: 1em;\n",
              "  font-family: monospace;\n",
              "  background-color: var(--sklearn-color-background);\n",
              "  border-radius: 1em;\n",
              "  height: 1em;\n",
              "  width: 1em;\n",
              "  text-decoration: none !important;\n",
              "  margin-left: 0.5em;\n",
              "  text-align: center;\n",
              "  /* unfitted */\n",
              "  border: var(--sklearn-color-unfitted-level-1) 1pt solid;\n",
              "  color: var(--sklearn-color-unfitted-level-1);\n",
              "}\n",
              "\n",
              ".sk-estimator-doc-link.fitted,\n",
              "a:link.sk-estimator-doc-link.fitted,\n",
              "a:visited.sk-estimator-doc-link.fitted {\n",
              "  /* fitted */\n",
              "  border: var(--sklearn-color-fitted-level-1) 1pt solid;\n",
              "  color: var(--sklearn-color-fitted-level-1);\n",
              "}\n",
              "\n",
              "/* On hover */\n",
              "div.sk-estimator:hover .sk-estimator-doc-link:hover,\n",
              ".sk-estimator-doc-link:hover,\n",
              "div.sk-label-container:hover .sk-estimator-doc-link:hover,\n",
              ".sk-estimator-doc-link:hover {\n",
              "  /* unfitted */\n",
              "  background-color: var(--sklearn-color-unfitted-level-3);\n",
              "  color: var(--sklearn-color-background);\n",
              "  text-decoration: none;\n",
              "}\n",
              "\n",
              "div.sk-estimator.fitted:hover .sk-estimator-doc-link.fitted:hover,\n",
              ".sk-estimator-doc-link.fitted:hover,\n",
              "div.sk-label-container:hover .sk-estimator-doc-link.fitted:hover,\n",
              ".sk-estimator-doc-link.fitted:hover {\n",
              "  /* fitted */\n",
              "  background-color: var(--sklearn-color-fitted-level-3);\n",
              "  color: var(--sklearn-color-background);\n",
              "  text-decoration: none;\n",
              "}\n",
              "\n",
              "/* Span, style for the box shown on hovering the info icon */\n",
              ".sk-estimator-doc-link span {\n",
              "  display: none;\n",
              "  z-index: 9999;\n",
              "  position: relative;\n",
              "  font-weight: normal;\n",
              "  right: .2ex;\n",
              "  padding: .5ex;\n",
              "  margin: .5ex;\n",
              "  width: min-content;\n",
              "  min-width: 20ex;\n",
              "  max-width: 50ex;\n",
              "  color: var(--sklearn-color-text);\n",
              "  box-shadow: 2pt 2pt 4pt #999;\n",
              "  /* unfitted */\n",
              "  background: var(--sklearn-color-unfitted-level-0);\n",
              "  border: .5pt solid var(--sklearn-color-unfitted-level-3);\n",
              "}\n",
              "\n",
              ".sk-estimator-doc-link.fitted span {\n",
              "  /* fitted */\n",
              "  background: var(--sklearn-color-fitted-level-0);\n",
              "  border: var(--sklearn-color-fitted-level-3);\n",
              "}\n",
              "\n",
              ".sk-estimator-doc-link:hover span {\n",
              "  display: block;\n",
              "}\n",
              "\n",
              "/* \"?\"-specific style due to the `<a>` HTML tag */\n",
              "\n",
              "#sk-container-id-1 a.estimator_doc_link {\n",
              "  float: right;\n",
              "  font-size: 1rem;\n",
              "  line-height: 1em;\n",
              "  font-family: monospace;\n",
              "  background-color: var(--sklearn-color-background);\n",
              "  border-radius: 1rem;\n",
              "  height: 1rem;\n",
              "  width: 1rem;\n",
              "  text-decoration: none;\n",
              "  /* unfitted */\n",
              "  color: var(--sklearn-color-unfitted-level-1);\n",
              "  border: var(--sklearn-color-unfitted-level-1) 1pt solid;\n",
              "}\n",
              "\n",
              "#sk-container-id-1 a.estimator_doc_link.fitted {\n",
              "  /* fitted */\n",
              "  border: var(--sklearn-color-fitted-level-1) 1pt solid;\n",
              "  color: var(--sklearn-color-fitted-level-1);\n",
              "}\n",
              "\n",
              "/* On hover */\n",
              "#sk-container-id-1 a.estimator_doc_link:hover {\n",
              "  /* unfitted */\n",
              "  background-color: var(--sklearn-color-unfitted-level-3);\n",
              "  color: var(--sklearn-color-background);\n",
              "  text-decoration: none;\n",
              "}\n",
              "\n",
              "#sk-container-id-1 a.estimator_doc_link.fitted:hover {\n",
              "  /* fitted */\n",
              "  background-color: var(--sklearn-color-fitted-level-3);\n",
              "}\n",
              "</style><div id=\"sk-container-id-1\" class=\"sk-top-container\"><div class=\"sk-text-repr-fallback\"><pre>LogisticRegression(C=0.4, class_weight=&#x27;balanced&#x27;, max_iter=200, solver=&#x27;saga&#x27;)</pre><b>In a Jupyter environment, please rerun this cell to show the HTML representation or trust the notebook. <br />On GitHub, the HTML representation is unable to render, please try loading this page with nbviewer.org.</b></div><div class=\"sk-container\" hidden><div class=\"sk-item\"><div class=\"sk-estimator fitted sk-toggleable\"><input class=\"sk-toggleable__control sk-hidden--visually\" id=\"sk-estimator-id-1\" type=\"checkbox\" checked><label for=\"sk-estimator-id-1\" class=\"sk-toggleable__label fitted sk-toggleable__label-arrow\"><div><div>LogisticRegression</div></div><div><a class=\"sk-estimator-doc-link fitted\" rel=\"noreferrer\" target=\"_blank\" href=\"https://scikit-learn.org/1.6/modules/generated/sklearn.linear_model.LogisticRegression.html\">?<span>Documentation for LogisticRegression</span></a><span class=\"sk-estimator-doc-link fitted\">i<span>Fitted</span></span></div></label><div class=\"sk-toggleable__content fitted\"><pre>LogisticRegression(C=0.4, class_weight=&#x27;balanced&#x27;, max_iter=200, solver=&#x27;saga&#x27;)</pre></div> </div></div></div></div>"
            ]
          },
          "metadata": {},
          "execution_count": 40
        }
      ]
    },
    {
      "cell_type": "code",
      "source": [
        "y_pred = clf.predict(X_test)\n",
        "print(classification_report(y_test, y_pred, zero_division=0))"
      ],
      "metadata": {
        "colab": {
          "base_uri": "https://localhost:8080/"
        },
        "id": "InSZvwMcxJ6d",
        "outputId": "b3d30af4-d366-4ccc-ae01-de6c7f643134"
      },
      "id": "InSZvwMcxJ6d",
      "execution_count": null,
      "outputs": [
        {
          "output_type": "stream",
          "name": "stdout",
          "text": [
            "              precision    recall  f1-score   support\n",
            "\n",
            "         0.0       0.90      0.87      0.88       971\n",
            "         1.0       0.75      0.80      0.77       471\n",
            "\n",
            "    accuracy                           0.85      1442\n",
            "   macro avg       0.82      0.83      0.83      1442\n",
            "weighted avg       0.85      0.85      0.85      1442\n",
            "\n"
          ]
        }
      ]
    },
    {
      "cell_type": "markdown",
      "source": [
        "Выводим топ-10 самых токсичных текстов:"
      ],
      "metadata": {
        "id": "ShyGesz1x8dY"
      },
      "id": "ShyGesz1x8dY"
    },
    {
      "cell_type": "code",
      "source": [
        "probas = clf.predict_proba(X_test)[:, 1]\n",
        "most_toxic_indices = np.argsort(probas)[-10:][::-1]\n",
        "most_toxic_texts = data.iloc[most_toxic_indices]['comment']"
      ],
      "metadata": {
        "id": "DB81rzuFxX2m"
      },
      "id": "DB81rzuFxX2m",
      "execution_count": null,
      "outputs": []
    },
    {
      "cell_type": "code",
      "source": [
        "print(\"10 самых токсичных текстов:\")\n",
        "for text in most_toxic_texts:\n",
        "    print(text)"
      ],
      "metadata": {
        "colab": {
          "base_uri": "https://localhost:8080/"
        },
        "id": "tMcKQcDyxYwH",
        "outputId": "bae5de85-d27e-44d9-a6a1-c2d788de2c17"
      },
      "id": "tMcKQcDyxYwH",
      "execution_count": null,
      "outputs": [
        {
          "output_type": "stream",
          "name": "stdout",
          "text": [
            "10 самых токсичных текстов:\n",
            "давай поменяемся на что-нибудь ))\n",
            "У нас тут проблема возникла... Сделали выписку моей матери, там вообще почти ничего не указано и есть данные о пенсионных отчислениях только за 2018 год, то есть куда пропало 30 лет стажа... Я в легком шоке и не знаю, то ли это в госуслугах какой-то баг, то ли там все документы потеряли... Сижу уже несколько дней и не понимаю что с этим делать. p.s. , как вы относитесь к идее перенести ваш пост в сообщество Антимошенник ?\n",
            "\n",
            "геев и анимешниц Было бы круто, если бы это было так, а в основном нацики это подкаченные полухачи полужиды типо пейсака.\n",
            "\n",
            "Не пытайся меня понять. Не напрягай свои зачатки интеллекта.\n",
            "\n",
            "Именно. Работник что-ли штат этот придумывал\n",
            "Судя потому что происходит на политической арене вы правы.\n",
            "Там вроде оплата безналом была.\n",
            "Создал тут тхреад в b 192441781 Как оказалось, ЛГБТ пропаганда в б кажется унылой и слишком обильной не только мне. Как насчёт пидорнуть все гее би треды из b в ga? Хуле они тут у себя филиал открыли? Заебали притеснять натуралов. Давайте я поясню. Пидоротреды унылы и неприятны, и их крайне много. Это заебало. Если куклоебов и пониебоы пидорнули, почему пидоров нельзя пидорнуть? Пониебы всех заебали - их пидорнули Куклоебы всех заебали - их пидорнули Пидоротреды заебали меня, я интересуюсь, сколько ещё анонов заебались их видить нонстоп 24 7 на главной. Если нас будет много - можно и пидорнуть, я считаю. Для них есть целый раздел, или 2-3 даже. Но все равно постоянно это лезет на главную в b. ДОКОЛЕ?\n",
            "\n",
            "Ору!! Каммент огонь)))\n",
            "Любителям пострулять не важно, тролль писал комент, или еще кто.. им надо свою агрессию оправдать. Ну не помещается у них в головушке, что собак как выкидывали на улицу, так и будут выкидывать вне зависимости от того, ведется отстрел, или нет.\n",
            "\n"
          ]
        }
      ]
    },
    {
      "cell_type": "markdown",
      "source": [],
      "metadata": {
        "id": "2YGPl7e5w1_8"
      },
      "id": "2YGPl7e5w1_8"
    },
    {
      "cell_type": "markdown",
      "id": "60c18c5a",
      "metadata": {
        "id": "60c18c5a"
      },
      "source": [
        "# Задание 4 (2 доп балла)\n",
        "\n",
        "В тетрадку с фастекстом добавьте код для обучения с negative sampling (задача сводится к бинарной классификации) и обучите модель. Проверьте полученную модель на нескольких словах. Похожие слова должны быть похожими по смыслу и по форме."
      ]
    },
    {
      "cell_type": "code",
      "execution_count": 5,
      "id": "d437a8c0",
      "metadata": {
        "id": "d437a8c0"
      },
      "outputs": [],
      "source": [
        "wiki = open('wiki_data.txt').read().split('\\n')"
      ]
    },
    {
      "cell_type": "code",
      "source": [
        "def tokenize(text):\n",
        "    tokens = re.sub('#+', ' ', text.lower()).split()\n",
        "    tokens = [token.strip(punctuation) for token in tokens]\n",
        "    tokens = [token for token in tokens if token]\n",
        "    return tokens"
      ],
      "metadata": {
        "id": "rek1RQ_tqb9y"
      },
      "id": "rek1RQ_tqb9y",
      "execution_count": 7,
      "outputs": []
    },
    {
      "cell_type": "code",
      "source": [
        "def ngrammer(raw_string, n=2):\n",
        "    ngrams = []\n",
        "    raw_string = ''.join(['<', raw_string, '>'])\n",
        "    for i in range(0,len(raw_string)-n+1):\n",
        "        ngram = ''.join(raw_string[i:i+n])\n",
        "        if ngram == '<' or ngram == '>': # сами по себе <> как токены не нужны\n",
        "            continue\n",
        "        ngrams.append(ngram)\n",
        "    return ngrams"
      ],
      "metadata": {
        "id": "A0pczd1XqhX1"
      },
      "id": "A0pczd1XqhX1",
      "execution_count": 8,
      "outputs": []
    },
    {
      "cell_type": "code",
      "source": [
        "def split_tokens(tokens, min_ngram_size, max_ngram_size):\n",
        "    tokens_with_subwords = []\n",
        "    for token in tokens:\n",
        "        subtokens = []\n",
        "        for i in range(min_ngram_size, max_ngram_size+1):\n",
        "            if len(token) > i:\n",
        "                subtokens.extend(ngrammer(token, i))\n",
        "        tokens_with_subwords.append(subtokens)\n",
        "    return tokens_with_subwords"
      ],
      "metadata": {
        "id": "XSpnFotPqrKJ"
      },
      "id": "XSpnFotPqrKJ",
      "execution_count": 9,
      "outputs": []
    },
    {
      "cell_type": "code",
      "source": [
        "class SubwordTokenizer:\n",
        "    def __init__(self, ngram_range=(1,1), min_count=5):\n",
        "        self.min_ngram_size, self.max_ngram_size = ngram_range\n",
        "        self.min_count = min_count\n",
        "        self.subword_vocab = None\n",
        "        self.fullword_vocab = None\n",
        "        self.vocab = None\n",
        "        self.id2word = None\n",
        "        self.word2id = None\n",
        "\n",
        "    def build_vocab(self, texts):\n",
        "        # чтобы построить словарь нужно пройти по всему корпусу и собрать частоты всех уникальных слов и нграммов\n",
        "        unfiltered_subword_vocab = Counter()\n",
        "        unfiltered_fullword_vocab = Counter()\n",
        "        for text in texts:\n",
        "            tokens = tokenize(text)\n",
        "            unfiltered_fullword_vocab.update(tokens)\n",
        "            subwords_per_token = split_tokens(tokens, self.min_ngram_size, self.max_ngram_size)\n",
        "            for subwords in subwords_per_token:\n",
        "                # в одном слове могут быть одинаковые нграммы поэтому возьмем только уникальные\n",
        "                unfiltered_subword_vocab.update(set(subwords))\n",
        "\n",
        "        self.fullword_vocab = set()\n",
        "        self.subword_vocab = set()\n",
        "\n",
        "        # теперь отфильтруем по частоте\n",
        "        for word, count in unfiltered_fullword_vocab.items():\n",
        "            if count >= self.min_count:\n",
        "                self.fullword_vocab.add(word)\n",
        "        # для нграммов сделаем порог побольше чтобы не создавать слишком много нграммов\n",
        "        # и учитывать только действительно частотные\n",
        "        for word, count in unfiltered_subword_vocab.items():\n",
        "            if count >= (self.min_count * 100):\n",
        "                self.subword_vocab.add(word)\n",
        "\n",
        "        # общий словарь\n",
        "        self.vocab = self.fullword_vocab | self.subword_vocab\n",
        "        self.id2word = {i:word for i,word in enumerate(self.vocab)}\n",
        "        self.word2id = {word:i for i,word in self.id2word.items()}\n",
        "\n",
        "    def subword_tokenize(self, text):\n",
        "        if self.vocab is None:\n",
        "            raise AttributeError('Vocabulary is not built!')\n",
        "        # разбиваем на токены\n",
        "        tokens = tokenize(text)\n",
        "        # каждый токен разбиваем на символьные нграммы\n",
        "        tokens_with_subwords = split_tokens(tokens, self.min_ngram_size, self.max_ngram_size)\n",
        "        # оставляет только токены и нграммы которые есть в словаре\n",
        "        only_vocab_tokens_with_subwords = []\n",
        "        for full_token, sub_tokens in zip(tokens, tokens_with_subwords):\n",
        "            filtered = []\n",
        "            if full_token in self.vocab:\n",
        "                # само слово и нграммы хранятся в одном списке\n",
        "                # но слово будет всегда первым в списке\n",
        "                filtered.append(full_token)\n",
        "            filtered.extend([subtoken for subtoken in set(sub_tokens) if subtoken in self.vocab])\n",
        "            only_vocab_tokens_with_subwords.append(filtered)\n",
        "\n",
        "        return only_vocab_tokens_with_subwords\n",
        "\n",
        "    def encode(self, subword_tokenized_text):\n",
        "        # маппим токены и нграммы в их индексы в словаре\n",
        "        encoded_text = []\n",
        "        for token in subword_tokenized_text:\n",
        "            if not token:\n",
        "                continue\n",
        "            encoded_text.append([self.word2id[token[0]]] + [self.word2id[t] for t in set(token[1:]) if t in self.word2id and t != token[0]])\n",
        "        return encoded_text\n",
        "\n",
        "    def __call__(self, text):\n",
        "        return self.encode(self.subword_tokenize(text))"
      ],
      "metadata": {
        "id": "mLY4j6AgqwNQ"
      },
      "id": "mLY4j6AgqwNQ",
      "execution_count": 10,
      "outputs": []
    },
    {
      "cell_type": "code",
      "source": [
        "tokenizer = SubwordTokenizer(ngram_range=(2,4), min_count=10)"
      ],
      "metadata": {
        "id": "jy8sRiqyqy3x"
      },
      "id": "jy8sRiqyqy3x",
      "execution_count": 11,
      "outputs": []
    },
    {
      "cell_type": "code",
      "source": [
        "tokenizer.build_vocab(wiki)"
      ],
      "metadata": {
        "id": "hSwMoXYWq0fc"
      },
      "id": "hSwMoXYWq0fc",
      "execution_count": 12,
      "outputs": []
    },
    {
      "cell_type": "code",
      "source": [
        "def gen_batches_ft(sentences, tokenizer, window = 5, batch_size=1000, maxlen=20, neg_samples=5): # добавили neg_samples=5\n",
        "\n",
        "\n",
        "    left_context_length = (window/2).__ceil__()\n",
        "    right_context_length = window // 2\n",
        "\n",
        "    vocab_size = len(tokenizer.vocab) # добавили\n",
        "\n",
        "    while True:\n",
        "        X = []\n",
        "        y = []\n",
        "\n",
        "        for sent in sentences:\n",
        "            sent = tokenizer(sent)\n",
        "            for i in range(len(sent)-1):\n",
        "                word_with_subtokens = sent[i]\n",
        "                context = sent[max(0, i-left_context_length):i] + sent[i+1:i+right_context_length]\n",
        "                for context_word_with_subtokens in context:\n",
        "                    # целевой токен всегда только целый\n",
        "                    # мы берем первый токен из списка который вернул токенайзер\n",
        "                    # там у нас будет лежать целое слово\n",
        "                    # only_full_word_context_token = context_word_with_subtokens[0]\n",
        "                    X.append(word_with_subtokens)\n",
        "                    y.append(1)\n",
        "\n",
        "                    # Добавили генерацию отрицательных примеров\n",
        "                    for _ in range(neg_samples):\n",
        "                        negative_sample = np.random.randint(0, vocab_size)\n",
        "                        while negative_sample in context_word_with_subtokens:  # Исключаем совпадения\n",
        "                            negative_sample = np.random.randint(0, vocab_size)\n",
        "                        X.append(word_with_subtokens)\n",
        "                        y.append(0)\n",
        "\n",
        "\n",
        "                    if len(X) >= batch_size:\n",
        "                        # тут нам понадобится паддинг так как количество сивольных нграммов будет зависеть от длины токенов\n",
        "                        X = np.array(keras.preprocessing.sequence.pad_sequences(X, maxlen=maxlen))\n",
        "                        y = np.array(y)\n",
        "                        yield (X, y)\n",
        "                        X = []\n",
        "                        y = []\n"
      ],
      "metadata": {
        "id": "AOpyQ3_gq9IO"
      },
      "id": "AOpyQ3_gq9IO",
      "execution_count": 15,
      "outputs": []
    },
    {
      "cell_type": "code",
      "source": [
        "gen = gen_batches_ft(wiki, tokenizer, batch_size=5)"
      ],
      "metadata": {
        "id": "jwvfiOl9rTYD"
      },
      "id": "jwvfiOl9rTYD",
      "execution_count": 16,
      "outputs": []
    },
    {
      "cell_type": "code",
      "source": [
        "model = keras.Sequential()\n",
        "model.add(keras.layers.Embedding(input_dim=len(tokenizer.vocab),\n",
        "                                 output_dim=100))\n",
        "model.add(keras.layers.Lambda(lambda x: x.mean(axis=1)))\n",
        "\n",
        "model.add(keras.layers.Dense(1, activation='sigmoid')) # Было: len(tokenizer.vocab), activation='softmax'\n",
        "model.compile(optimizer=keras.optimizers.Adam(learning_rate=1e-4), loss='binary_crossentropy', metrics=['accuracy']) # Изменили loss='sparse_categorical_crossentropy', добавили metrics=['accuracy']"
      ],
      "metadata": {
        "id": "sygLFNTGrZfA"
      },
      "id": "sygLFNTGrZfA",
      "execution_count": 17,
      "outputs": []
    },
    {
      "cell_type": "code",
      "source": [
        "model.build((None, 10))"
      ],
      "metadata": {
        "id": "WZEwWfztrbWC"
      },
      "id": "WZEwWfztrbWC",
      "execution_count": 18,
      "outputs": []
    },
    {
      "cell_type": "code",
      "source": [
        "model.summary()"
      ],
      "metadata": {
        "colab": {
          "base_uri": "https://localhost:8080/",
          "height": 225
        },
        "id": "0oT-Htzirb-L",
        "outputId": "df941272-f711-47f1-f397-add7ba5897d8"
      },
      "id": "0oT-Htzirb-L",
      "execution_count": 19,
      "outputs": [
        {
          "output_type": "display_data",
          "data": {
            "text/plain": [
              "\u001b[1mModel: \"sequential_1\"\u001b[0m\n"
            ],
            "text/html": [
              "<pre style=\"white-space:pre;overflow-x:auto;line-height:normal;font-family:Menlo,'DejaVu Sans Mono',consolas,'Courier New',monospace\"><span style=\"font-weight: bold\">Model: \"sequential_1\"</span>\n",
              "</pre>\n"
            ]
          },
          "metadata": {}
        },
        {
          "output_type": "display_data",
          "data": {
            "text/plain": [
              "┏━━━━━━━━━━━━━━━━━━━━━━━━━━━━━━━━━━━━━━┳━━━━━━━━━━━━━━━━━━━━━━━━━━━━━┳━━━━━━━━━━━━━━━━━┓\n",
              "┃\u001b[1m \u001b[0m\u001b[1mLayer (type)                        \u001b[0m\u001b[1m \u001b[0m┃\u001b[1m \u001b[0m\u001b[1mOutput Shape               \u001b[0m\u001b[1m \u001b[0m┃\u001b[1m \u001b[0m\u001b[1m        Param #\u001b[0m\u001b[1m \u001b[0m┃\n",
              "┡━━━━━━━━━━━━━━━━━━━━━━━━━━━━━━━━━━━━━━╇━━━━━━━━━━━━━━━━━━━━━━━━━━━━━╇━━━━━━━━━━━━━━━━━┩\n",
              "│ embedding_1 (\u001b[38;5;33mEmbedding\u001b[0m)              │ (\u001b[38;5;45mNone\u001b[0m, \u001b[38;5;34m10\u001b[0m, \u001b[38;5;34m100\u001b[0m)             │       \u001b[38;5;34m5,486,000\u001b[0m │\n",
              "├──────────────────────────────────────┼─────────────────────────────┼─────────────────┤\n",
              "│ lambda_1 (\u001b[38;5;33mLambda\u001b[0m)                    │ (\u001b[38;5;45mNone\u001b[0m, \u001b[38;5;34m100\u001b[0m)                 │               \u001b[38;5;34m0\u001b[0m │\n",
              "├──────────────────────────────────────┼─────────────────────────────┼─────────────────┤\n",
              "│ dense_1 (\u001b[38;5;33mDense\u001b[0m)                      │ (\u001b[38;5;45mNone\u001b[0m, \u001b[38;5;34m1\u001b[0m)                   │             \u001b[38;5;34m101\u001b[0m │\n",
              "└──────────────────────────────────────┴─────────────────────────────┴─────────────────┘\n"
            ],
            "text/html": [
              "<pre style=\"white-space:pre;overflow-x:auto;line-height:normal;font-family:Menlo,'DejaVu Sans Mono',consolas,'Courier New',monospace\">┏━━━━━━━━━━━━━━━━━━━━━━━━━━━━━━━━━━━━━━┳━━━━━━━━━━━━━━━━━━━━━━━━━━━━━┳━━━━━━━━━━━━━━━━━┓\n",
              "┃<span style=\"font-weight: bold\"> Layer (type)                         </span>┃<span style=\"font-weight: bold\"> Output Shape                </span>┃<span style=\"font-weight: bold\">         Param # </span>┃\n",
              "┡━━━━━━━━━━━━━━━━━━━━━━━━━━━━━━━━━━━━━━╇━━━━━━━━━━━━━━━━━━━━━━━━━━━━━╇━━━━━━━━━━━━━━━━━┩\n",
              "│ embedding_1 (<span style=\"color: #0087ff; text-decoration-color: #0087ff\">Embedding</span>)              │ (<span style=\"color: #00d7ff; text-decoration-color: #00d7ff\">None</span>, <span style=\"color: #00af00; text-decoration-color: #00af00\">10</span>, <span style=\"color: #00af00; text-decoration-color: #00af00\">100</span>)             │       <span style=\"color: #00af00; text-decoration-color: #00af00\">5,486,000</span> │\n",
              "├──────────────────────────────────────┼─────────────────────────────┼─────────────────┤\n",
              "│ lambda_1 (<span style=\"color: #0087ff; text-decoration-color: #0087ff\">Lambda</span>)                    │ (<span style=\"color: #00d7ff; text-decoration-color: #00d7ff\">None</span>, <span style=\"color: #00af00; text-decoration-color: #00af00\">100</span>)                 │               <span style=\"color: #00af00; text-decoration-color: #00af00\">0</span> │\n",
              "├──────────────────────────────────────┼─────────────────────────────┼─────────────────┤\n",
              "│ dense_1 (<span style=\"color: #0087ff; text-decoration-color: #0087ff\">Dense</span>)                      │ (<span style=\"color: #00d7ff; text-decoration-color: #00d7ff\">None</span>, <span style=\"color: #00af00; text-decoration-color: #00af00\">1</span>)                   │             <span style=\"color: #00af00; text-decoration-color: #00af00\">101</span> │\n",
              "└──────────────────────────────────────┴─────────────────────────────┴─────────────────┘\n",
              "</pre>\n"
            ]
          },
          "metadata": {}
        },
        {
          "output_type": "display_data",
          "data": {
            "text/plain": [
              "\u001b[1m Total params: \u001b[0m\u001b[38;5;34m5,486,101\u001b[0m (20.93 MB)\n"
            ],
            "text/html": [
              "<pre style=\"white-space:pre;overflow-x:auto;line-height:normal;font-family:Menlo,'DejaVu Sans Mono',consolas,'Courier New',monospace\"><span style=\"font-weight: bold\"> Total params: </span><span style=\"color: #00af00; text-decoration-color: #00af00\">5,486,101</span> (20.93 MB)\n",
              "</pre>\n"
            ]
          },
          "metadata": {}
        },
        {
          "output_type": "display_data",
          "data": {
            "text/plain": [
              "\u001b[1m Trainable params: \u001b[0m\u001b[38;5;34m5,486,101\u001b[0m (20.93 MB)\n"
            ],
            "text/html": [
              "<pre style=\"white-space:pre;overflow-x:auto;line-height:normal;font-family:Menlo,'DejaVu Sans Mono',consolas,'Courier New',monospace\"><span style=\"font-weight: bold\"> Trainable params: </span><span style=\"color: #00af00; text-decoration-color: #00af00\">5,486,101</span> (20.93 MB)\n",
              "</pre>\n"
            ]
          },
          "metadata": {}
        },
        {
          "output_type": "display_data",
          "data": {
            "text/plain": [
              "\u001b[1m Non-trainable params: \u001b[0m\u001b[38;5;34m0\u001b[0m (0.00 B)\n"
            ],
            "text/html": [
              "<pre style=\"white-space:pre;overflow-x:auto;line-height:normal;font-family:Menlo,'DejaVu Sans Mono',consolas,'Courier New',monospace\"><span style=\"font-weight: bold\"> Non-trainable params: </span><span style=\"color: #00af00; text-decoration-color: #00af00\">0</span> (0.00 B)\n",
              "</pre>\n"
            ]
          },
          "metadata": {}
        }
      ]
    },
    {
      "cell_type": "code",
      "source": [
        "model.fit(gen_batches_ft(wiki[:19000],tokenizer, window=10, batch_size=100),\n",
        "          validation_data=gen_batches_ft(wiki[19000:], tokenizer, window=10, batch_size=100),\n",
        "          batch_size=2000,\n",
        "          steps_per_epoch=10000,\n",
        "          validation_steps=100,\n",
        "          epochs=10)"
      ],
      "metadata": {
        "colab": {
          "base_uri": "https://localhost:8080/"
        },
        "id": "0YoTAqedrfVI",
        "outputId": "8dff6975-6e21-430c-eb63-152761c5490c"
      },
      "id": "0YoTAqedrfVI",
      "execution_count": 20,
      "outputs": [
        {
          "output_type": "stream",
          "name": "stdout",
          "text": [
            "Epoch 1/10\n",
            "\u001b[1m10000/10000\u001b[0m \u001b[32m━━━━━━━━━━━━━━━━━━━━\u001b[0m\u001b[37m\u001b[0m \u001b[1m92s\u001b[0m 9ms/step - accuracy: 0.8308 - loss: 0.5196 - val_accuracy: 0.8333 - val_loss: 0.4512\n",
            "Epoch 2/10\n",
            "\u001b[1m10000/10000\u001b[0m \u001b[32m━━━━━━━━━━━━━━━━━━━━\u001b[0m\u001b[37m\u001b[0m \u001b[1m91s\u001b[0m 9ms/step - accuracy: 0.8333 - loss: 0.4510 - val_accuracy: 0.8333 - val_loss: 0.4510\n",
            "Epoch 3/10\n",
            "\u001b[1m10000/10000\u001b[0m \u001b[32m━━━━━━━━━━━━━━━━━━━━\u001b[0m\u001b[37m\u001b[0m \u001b[1m91s\u001b[0m 9ms/step - accuracy: 0.8333 - loss: 0.4508 - val_accuracy: 0.8333 - val_loss: 0.4508\n",
            "Epoch 4/10\n",
            "\u001b[1m10000/10000\u001b[0m \u001b[32m━━━━━━━━━━━━━━━━━━━━\u001b[0m\u001b[37m\u001b[0m \u001b[1m91s\u001b[0m 9ms/step - accuracy: 0.8333 - loss: 0.4508 - val_accuracy: 0.8333 - val_loss: 0.4507\n",
            "Epoch 5/10\n",
            "\u001b[1m10000/10000\u001b[0m \u001b[32m━━━━━━━━━━━━━━━━━━━━\u001b[0m\u001b[37m\u001b[0m \u001b[1m91s\u001b[0m 9ms/step - accuracy: 0.8333 - loss: 0.4507 - val_accuracy: 0.8333 - val_loss: 0.4507\n",
            "Epoch 6/10\n",
            "\u001b[1m10000/10000\u001b[0m \u001b[32m━━━━━━━━━━━━━━━━━━━━\u001b[0m\u001b[37m\u001b[0m \u001b[1m91s\u001b[0m 9ms/step - accuracy: 0.8333 - loss: 0.4506 - val_accuracy: 0.8333 - val_loss: 0.4507\n",
            "Epoch 7/10\n",
            "\u001b[1m10000/10000\u001b[0m \u001b[32m━━━━━━━━━━━━━━━━━━━━\u001b[0m\u001b[37m\u001b[0m \u001b[1m92s\u001b[0m 9ms/step - accuracy: 0.8333 - loss: 0.4506 - val_accuracy: 0.8333 - val_loss: 0.4506\n",
            "Epoch 8/10\n",
            "\u001b[1m10000/10000\u001b[0m \u001b[32m━━━━━━━━━━━━━━━━━━━━\u001b[0m\u001b[37m\u001b[0m \u001b[1m91s\u001b[0m 9ms/step - accuracy: 0.8333 - loss: 0.4506 - val_accuracy: 0.8333 - val_loss: 0.4506\n",
            "Epoch 9/10\n",
            "\u001b[1m10000/10000\u001b[0m \u001b[32m━━━━━━━━━━━━━━━━━━━━\u001b[0m\u001b[37m\u001b[0m \u001b[1m91s\u001b[0m 9ms/step - accuracy: 0.8333 - loss: 0.4506 - val_accuracy: 0.8333 - val_loss: 0.4506\n",
            "Epoch 10/10\n",
            "\u001b[1m10000/10000\u001b[0m \u001b[32m━━━━━━━━━━━━━━━━━━━━\u001b[0m\u001b[37m\u001b[0m \u001b[1m92s\u001b[0m 9ms/step - accuracy: 0.8333 - loss: 0.4506 - val_accuracy: 0.8333 - val_loss: 0.4506\n"
          ]
        },
        {
          "output_type": "execute_result",
          "data": {
            "text/plain": [
              "<keras.src.callbacks.history.History at 0x79207967dfd0>"
            ]
          },
          "metadata": {},
          "execution_count": 20
        }
      ]
    },
    {
      "cell_type": "code",
      "source": [
        "print(model.history.history.keys())\n",
        "# summarize history for accuracy\n",
        "plt.plot(model.history.history['loss'])\n",
        "plt.plot(model.history.history['val_loss'])\n",
        "plt.title('model loss')\n",
        "plt.ylabel('loss')\n",
        "plt.xlabel('epoch')\n",
        "plt.legend(['train', 'val'], loc='upper left')\n",
        "plt.show()"
      ],
      "metadata": {
        "colab": {
          "base_uri": "https://localhost:8080/",
          "height": 489
        },
        "id": "BRETCmOvrhpB",
        "outputId": "b9767541-0a81-4bbf-fff4-968d7affdf2a"
      },
      "id": "BRETCmOvrhpB",
      "execution_count": 21,
      "outputs": [
        {
          "output_type": "stream",
          "name": "stdout",
          "text": [
            "dict_keys(['accuracy', 'loss', 'val_accuracy', 'val_loss'])\n"
          ]
        },
        {
          "output_type": "display_data",
          "data": {
            "text/plain": [
              "<Figure size 640x480 with 1 Axes>"
            ],
            "image/png": "[encoded data removed]"
          },
          "metadata": {}
        }
      ]
    },
    {
      "cell_type": "code",
      "source": [
        "embeddings = model.layers[0].get_weights()[0] # матрица со всеми эмбедингами"
      ],
      "metadata": {
        "id": "_HGr5TyUrjb-"
      },
      "id": "_HGr5TyUrjb-",
      "execution_count": 22,
      "outputs": []
    },
    {
      "cell_type": "code",
      "source": [
        "full_word_embeddings = np.zeros((len(tokenizer.fullword_vocab), 100)) # матрица с эмбедингами полных слов + нграммы\n",
        "id2word = list(tokenizer.fullword_vocab)\n",
        "\n",
        "for i, word in enumerate(tokenizer.fullword_vocab):\n",
        "    subwords = tokenizer(word)[0]\n",
        "    full_word_embeddings[i] = embeddings[[i for i in subwords]].mean(axis=0)"
      ],
      "metadata": {
        "id": "ChieBF_GrlLp"
      },
      "id": "ChieBF_GrlLp",
      "execution_count": 23,
      "outputs": []
    },
    {
      "cell_type": "code",
      "source": [
        "def most_similar_ft(word, embeddings, tokenizer):\n",
        "    subwords = tokenizer(word)[0]\n",
        "    word_embedding = embeddings[[i for i in subwords]].sum(axis=0)\n",
        "    # idxs = [tokenizer.word2id[i] for i in tokenizer.fullword_vocab]\n",
        "    similar = [id2word[i] for i in\n",
        "               cosine_distances(word_embedding.reshape(1, -1), full_word_embeddings).argsort()[0][:20]]\n",
        "    return similar"
      ],
      "metadata": {
        "id": "k6RJp4Z3rnZQ"
      },
      "id": "k6RJp4Z3rnZQ",
      "execution_count": 24,
      "outputs": []
    },
    {
      "cell_type": "code",
      "source": [
        "most_similar_ft('документ', embeddings, tokenizer)"
      ],
      "metadata": {
        "colab": {
          "base_uri": "https://localhost:8080/"
        },
        "id": "r7b-WqKVrrU5",
        "outputId": "36a0107d-42a5-4fd3-ef89-9d0f6df50c42"
      },
      "id": "r7b-WqKVrrU5",
      "execution_count": 25,
      "outputs": [
        {
          "output_type": "execute_result",
          "data": {
            "text/plain": [
              "['документ',\n",
              " 'документа',\n",
              " 'документу',\n",
              " 'документы',\n",
              " 'документе',\n",
              " 'документах',\n",
              " 'документов',\n",
              " 'документальных',\n",
              " 'документами',\n",
              " 'документам',\n",
              " 'документальный',\n",
              " 'документации',\n",
              " 'документация',\n",
              " 'документальные',\n",
              " 'документальное',\n",
              " 'документом',\n",
              " 'документальной',\n",
              " 'документально',\n",
              " 'документальном',\n",
              " 'документального']"
            ]
          },
          "metadata": {},
          "execution_count": 25
        }
      ]
    },
    {
      "cell_type": "code",
      "source": [
        "most_similar_ft('здоровье', embeddings, tokenizer)"
      ],
      "metadata": {
        "colab": {
          "base_uri": "https://localhost:8080/"
        },
        "id": "Y1urHomf4KHG",
        "outputId": "19d5da95-99a8-41c9-dd6b-a4dca177ef9a"
      },
      "id": "Y1urHomf4KHG",
      "execution_count": 26,
      "outputs": [
        {
          "output_type": "execute_result",
          "data": {
            "text/plain": [
              "['здоровье',\n",
              " 'здоровьем',\n",
              " 'здоровью',\n",
              " 'здоровья',\n",
              " 'здоровых',\n",
              " 'здоровой',\n",
              " 'фёдоровский',\n",
              " 'выздоровления',\n",
              " 'провинциальные',\n",
              " 'здорового',\n",
              " 'оборонительные',\n",
              " 'издательствами',\n",
              " 'статистические',\n",
              " 'плодородные',\n",
              " 'недовольные',\n",
              " 'фёдоровны',\n",
              " 'заключительных',\n",
              " 'законодательные',\n",
              " 'председательствовал',\n",
              " 'сравнивали']"
            ]
          },
          "metadata": {},
          "execution_count": 26
        }
      ]
    },
    {
      "cell_type": "code",
      "source": [
        "most_similar_ft('семья', embeddings, tokenizer)"
      ],
      "metadata": {
        "colab": {
          "base_uri": "https://localhost:8080/"
        },
        "id": "8rQKIWkR4MpN",
        "outputId": "54ad5312-5930-4c9f-d3c9-fc4ff21ea8fc"
      },
      "id": "8rQKIWkR4MpN",
      "execution_count": 29,
      "outputs": [
        {
          "output_type": "execute_result",
          "data": {
            "text/plain": [
              "['семья',\n",
              " 'семьях',\n",
              " 'семь',\n",
              " 'семью',\n",
              " 'семье',\n",
              " 'семьям',\n",
              " 'семьёй',\n",
              " 'семьи»',\n",
              " 'семьей',\n",
              " 'семьями',\n",
              " 'семьи',\n",
              " 'северо-восточная',\n",
              " 'семейное',\n",
              " 'семнадцать',\n",
              " '«семь',\n",
              " 'семейного',\n",
              " 'семейный',\n",
              " 'северо-восточного',\n",
              " 'семикратный',\n",
              " 'семёна']"
            ]
          },
          "metadata": {},
          "execution_count": 29
        }
      ]
    }
  ],
  "metadata": {
    "kernelspec": {
      "display_name": "Python 3",
      "name": "python3"
    },
    "language_info": {
      "codemirror_mode": {
        "name": "ipython",
        "version": 3
      },
      "file_extension": ".py",
      "mimetype": "text/x-python",
      "name": "python",
      "nbconvert_exporter": "python",
      "pygments_lexer": "ipython3",
      "version": "3.11.7"
    },
    "colab": {
      "provenance": [],
      "gpuType": "T4"
    },
    "accelerator": "GPU"
  },
  "nbformat": 4,
  "nbformat_minor": 5
}