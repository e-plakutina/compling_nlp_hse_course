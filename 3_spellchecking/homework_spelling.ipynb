{
 "cells": [
  {
   "cell_type": "markdown",
   "id": "371970ff",
   "metadata": {
    "id": "371970ff"
   },
   "source": [
    "# Домашнее задание № 3. Исправление опечаток"
   ]
  },
  {
   "cell_type": "code",
   "source": [
    "!pip install textdistance"
   ],
   "metadata": {
    "colab": {
     "base_uri": "https://localhost:8080/"
    },
    "id": "dO52X8NI7oY5",
    "outputId": "145faffe-8569-4a69-e1c1-ac944b0f126a"
   },
   "id": "dO52X8NI7oY5",
   "execution_count": 1,
   "outputs": [
    {
     "output_type": "stream",
     "name": "stdout",
     "text": [
      "Collecting textdistance\n",
      "  Downloading textdistance-4.6.3-py3-none-any.whl.metadata (18 kB)\n",
      "Downloading textdistance-4.6.3-py3-none-any.whl (31 kB)\n",
      "Installing collected packages: textdistance\n",
      "Successfully installed textdistance-4.6.3\n"
     ]
    }
   ]
  },
  {
   "cell_type": "code",
   "source": [
    "import textdistance"
   ],
   "metadata": {
    "id": "-3UuzSe_7pzl",
    "ExecuteTime": {
     "end_time": "2024-12-03T12:27:11.442768Z",
     "start_time": "2024-12-03T12:27:11.035992Z"
    }
   },
   "id": "-3UuzSe_7pzl",
   "outputs": [],
   "execution_count": 1
  },
  {
   "cell_type": "code",
   "source": [
    "!pip install razdel"
   ],
   "metadata": {
    "colab": {
     "base_uri": "https://localhost:8080/"
    },
    "id": "OuwcJ9Jx9yK1",
    "outputId": "e67bf992-9cd2-4acd-b4db-fbe555f6edab"
   },
   "id": "OuwcJ9Jx9yK1",
   "execution_count": 3,
   "outputs": [
    {
     "output_type": "stream",
     "name": "stdout",
     "text": [
      "Collecting razdel\n",
      "  Downloading razdel-0.5.0-py3-none-any.whl.metadata (10.0 kB)\n",
      "Downloading razdel-0.5.0-py3-none-any.whl (21 kB)\n",
      "Installing collected packages: razdel\n",
      "Successfully installed razdel-0.5.0\n"
     ]
    }
   ]
  },
  {
   "cell_type": "code",
   "source": [
    "import re\n",
    "from string import punctuation\n",
    "from collections import Counter\n",
    "punctuation += \"«»—…“”\"\n",
    "punct = set(punctuation)"
   ],
   "metadata": {
    "id": "Tv_hT_lC9ZFl",
    "ExecuteTime": {
     "end_time": "2024-12-03T12:27:17.067478Z",
     "start_time": "2024-12-03T12:27:17.060958Z"
    }
   },
   "id": "Tv_hT_lC9ZFl",
   "outputs": [],
   "execution_count": 2
  },
  {
   "cell_type": "code",
   "source": [
    "from sklearn.feature_extraction.text import CountVectorizer\n",
    "from sklearn.metrics.pairwise import cosine_distances"
   ],
   "metadata": {
    "id": "QdEl_QtyYG4_",
    "ExecuteTime": {
     "end_time": "2024-12-03T12:27:22.257456Z",
     "start_time": "2024-12-03T12:27:18.990148Z"
    }
   },
   "id": "QdEl_QtyYG4_",
   "outputs": [],
   "execution_count": 3
  },
  {
   "cell_type": "code",
   "source": [
    "corpus = open('data/wiki_data.txt', encoding='utf8').read()"
   ],
   "metadata": {
    "id": "yYIgmwb_9T-5",
    "ExecuteTime": {
     "end_time": "2024-12-03T12:27:23.425175Z",
     "start_time": "2024-12-03T12:27:22.917229Z"
    }
   },
   "id": "yYIgmwb_9T-5",
   "outputs": [],
   "execution_count": 4
  },
  {
   "cell_type": "markdown",
   "id": "b35cf8bd",
   "metadata": {
    "id": "b35cf8bd"
   },
   "source": [
    "## 1. Доп. ранжирование по вероятности (3 балла)"
   ]
  },
  {
   "cell_type": "markdown",
   "id": "0c6be25c",
   "metadata": {
    "id": "0c6be25c"
   },
   "source": [
    "Дополните get_closest_hybrid_match в семинаре так, чтобы из кандадатов с одинаковым расстоянием редактирования выбиралось наиболее вероятное."
   ]
  },
  {
   "cell_type": "code",
   "source": [
    "vocab = Counter(re.findall('\\w+', corpus.lower()))\n",
    "\n",
    "word2id = list(vocab.keys())\n",
    "id2word = {i:word for i, word in enumerate(vocab)}\n",
    "\n",
    "\n",
    "vec = CountVectorizer(analyzer='char', max_features=10000, ngram_range=(1,3))\n",
    "X = vec.fit_transform(vocab)"
   ],
   "metadata": {
    "id": "CzRPmP4_YFsD",
    "ExecuteTime": {
     "end_time": "2024-12-03T12:27:33.738426Z",
     "start_time": "2024-12-03T12:27:25.799992Z"
    }
   },
   "id": "CzRPmP4_YFsD",
   "outputs": [
    {
     "name": "stderr",
     "output_type": "stream",
     "text": [
      "<>:1: SyntaxWarning: invalid escape sequence '\\w'\n",
      "<>:1: SyntaxWarning: invalid escape sequence '\\w'\n",
      "C:\\Users\\eliza\\AppData\\Local\\Temp\\ipykernel_22496\\4052317798.py:1: SyntaxWarning: invalid escape sequence '\\w'\n",
      "  vocab = Counter(re.findall('\\w+', corpus.lower()))\n"
     ]
    }
   ],
   "execution_count": 5
  },
  {
   "cell_type": "code",
   "source": [
    "def get_closest_match_vec(text, X, vec, topn=20):\n",
    "    v = vec.transform([text])\n",
    "\n",
    "    # вся эффективноть берется из того, что мы сразу считаем близость\n",
    "    # 1 вектора ко всей матрице (словам в словаре)\n",
    "    # считать по отдельности циклом было бы дольше\n",
    "    # вместо одного вектора может даже целая матрица\n",
    "    # тогда считаться в итоге будет ещё быстрее\n",
    "\n",
    "    similarities = cosine_distances(v, X)[0]\n",
    "    topn = similarities.argsort()[:topn]\n",
    "\n",
    "    return [(id2word[top], similarities[top]) for top in topn]"
   ],
   "metadata": {
    "id": "KVa8syuXX-x6",
    "ExecuteTime": {
     "end_time": "2024-12-03T12:27:33.749522Z",
     "start_time": "2024-12-03T12:27:33.738426Z"
    }
   },
   "id": "KVa8syuXX-x6",
   "outputs": [],
   "execution_count": 6
  },
  {
   "cell_type": "code",
   "id": "f8e8814a",
   "metadata": {
    "id": "f8e8814a",
    "ExecuteTime": {
     "end_time": "2024-12-03T12:27:34.678274Z",
     "start_time": "2024-12-03T12:27:34.656146Z"
    }
   },
   "source": [
    "def get_closest_match_with_metric(text, lookup,topn=20, metric=textdistance.levenshtein):\n",
    "    # Counter можно использовать и с не целыми числами\n",
    "    similarities = Counter()\n",
    "\n",
    "    for word in lookup:\n",
    "        similarities[word] = metric.normalized_similarity(text, word)\n",
    "\n",
    "    return similarities.most_common(topn)\n",
    "\n",
    "def get_closest_hybrid_match(text, X, vec, topn=3, metric=textdistance.damerau_levenshtein):\n",
    "    candidates = get_closest_match_vec(text, X, vec, topn*4)\n",
    "    lookup = [cand[0] for cand in candidates]\n",
    "    closest = get_closest_match_with_metric(text, lookup, topn, metric=metric)\n",
    "\n",
    "    min_distance = closest[0][1] # минимальное расстояние редактирования\n",
    "    # находим слова с минимальным расстоянием редактирования:\n",
    "    filtered_candidates = [cand for cand in closest if cand[1] == min_distance]\n",
    "    # сортируем слова с минимальным расстоянием редактирования по вероятности:\n",
    "    filtered_candidates = sorted(filtered_candidates, key=lambda x: P(x[0]), reverse=True)\n",
    "\n",
    "    return filtered_candidates\n",
    "\n",
    "\n",
    "N = sum(vocab.values())\n",
    "\n",
    "def P(word, N=N): # преобразование слов в вероятности\n",
    "    return vocab[word] / N\n",
    "\n",
    "def predict_mistaken(word, vocab):\n",
    "    return 0 if word in vocab else 1\n"
   ],
   "outputs": [],
   "execution_count": 7
  },
  {
   "cell_type": "code",
   "id": "e67f8d02",
   "metadata": {
    "id": "e67f8d02",
    "colab": {
     "base_uri": "https://localhost:8080/"
    },
    "outputId": "7801dcfb-85f6-4c6b-ed57-866a23611784",
    "ExecuteTime": {
     "end_time": "2024-12-03T12:27:37.947575Z",
     "start_time": "2024-12-03T12:27:37.553838Z"
    }
   },
   "source": [
    "get_closest_hybrid_match('сонце', X, vec)"
   ],
   "outputs": [
    {
     "data": {
      "text/plain": [
       "[('солнце', 0.8333333333333334)]"
      ]
     },
     "execution_count": 8,
     "metadata": {},
     "output_type": "execute_result"
    }
   ],
   "execution_count": 8
  },
  {
   "cell_type": "markdown",
   "id": "f9cf9985",
   "metadata": {
    "id": "f9cf9985"
   },
   "source": [
    "## 2.  Symspell (7 баллов)"
   ]
  },
  {
   "cell_type": "markdown",
   "id": "9392cc23",
   "metadata": {
    "id": "9392cc23"
   },
   "source": [
    "Реализуйте алгоритм Symspell. Он похож на алгоритм Норвига, но проще и быстрее. Он основан только на одной операции - удалении символа. Описание алгоритма по шагам:\n",
    "\n",
    "1) Составляется словарь правильных слов  \n",
    "\n",
    "2) На основе словаря правильных слов составляется словарь удалений - для каждого правильного слова создаются все варианты удалений и создается словарь, где ключ - слово с удалением, а значение - правильное слово  (!)\n",
    "\n",
    "3) Для выбора исправления для слова с опечаткой генерируются все варианты удаления, из них выбираются те, что есть в словаре удалений, построенного на шаге 2. Слово с опечаткой заменяется на правильное слово, соответствующее варианту удаления  \n",
    "\n",
    "4) Если в словаре удалений есть несколько вариантов, то выбирается удаление, которому соответствует наиболее вероятное правильное слово  \n",
    "\n",
    "\n",
    "Оцените качество полученного алгоритма теми же тремя метриками."
   ]
  },
  {
   "cell_type": "markdown",
   "source": [
    "1) Словарь правильных слов:"
   ],
   "metadata": {
    "id": "mNLZnYH1DHNl"
   },
   "id": "mNLZnYH1DHNl"
  },
  {
   "cell_type": "code",
   "id": "a298614f",
   "metadata": {
    "id": "a298614f",
    "ExecuteTime": {
     "end_time": "2024-12-03T12:27:53.807430Z",
     "start_time": "2024-12-03T12:27:50.351488Z"
    }
   },
   "source": [
    "# Оставим тот же корпус, что и в первом задании\n",
    "corpus = open('data/wiki_data.txt', encoding='utf8').read()\n",
    "\n",
    "# словарь правильных слов\n",
    "vocab = Counter(re.findall('\\w+', corpus.lower()))\n",
    "\n",
    "# всего слов в словаре\n",
    "N = sum(vocab.values())\n",
    "\n",
    "# функция, которая выдает нам вероятности слова\n",
    "def P(word, N=N):\n",
    "  return vocab[word] / N"
   ],
   "outputs": [
    {
     "name": "stderr",
     "output_type": "stream",
     "text": [
      "<>:5: SyntaxWarning: invalid escape sequence '\\w'\n",
      "<>:5: SyntaxWarning: invalid escape sequence '\\w'\n",
      "C:\\Users\\eliza\\AppData\\Local\\Temp\\ipykernel_22496\\228300637.py:5: SyntaxWarning: invalid escape sequence '\\w'\n",
      "  vocab = Counter(re.findall('\\w+', corpus.lower()))\n"
     ]
    }
   ],
   "execution_count": 9
  },
  {
   "cell_type": "markdown",
   "source": "2) Словарь удалений:",
   "metadata": {
    "id": "tam16hxyD_p2"
   },
   "id": "tam16hxyD_p2"
  },
  {
   "cell_type": "code",
   "source": [
    "# функция, которая генерирует все возможные удаления одного символа\n",
    "def get_deletions(word, max_deletions=1):\n",
    "  splits = [(word[:i], word[i:]) for i in range(len(word) + 1)] # список разбиений слова на левую и правую части\n",
    "  deletes = [L + R[1:] for L, R in splits if R] # удаляем нулевой (первый) символ из правой части\n",
    "  return deletes\n",
    "\n",
    "\n",
    "# словарь удалений\n",
    "def build_deletion_dict(vocab):\n",
    "  deletion_dict = {}\n",
    "\n",
    "  for word in vocab:\n",
    "    for deletion in get_deletions(word):\n",
    "      if deletion not in deletion_dict:\n",
    "        deletion_dict[deletion] = []\n",
    "      deletion_dict[deletion].append(word)\n",
    "  return deletion_dict"
   ],
   "metadata": {
    "id": "8g1LErsR-I-z",
    "ExecuteTime": {
     "end_time": "2024-12-03T12:27:57.908823Z",
     "start_time": "2024-12-03T12:27:57.893824Z"
    }
   },
   "id": "8g1LErsR-I-z",
   "outputs": [],
   "execution_count": 10
  },
  {
   "cell_type": "code",
   "source": [
    "deletion_dict = build_deletion_dict(vocab)"
   ],
   "metadata": {
    "id": "YoOPh06C-I5a",
    "ExecuteTime": {
     "end_time": "2024-12-03T12:28:07.443344Z",
     "start_time": "2024-12-03T12:28:02.435966Z"
    }
   },
   "id": "YoOPh06C-I5a",
   "outputs": [],
   "execution_count": 11
  },
  {
   "cell_type": "markdown",
   "source": [
    "3) Выбор исправлений"
   ],
   "metadata": {
    "id": "Gg-BerpZHDI6"
   },
   "id": "Gg-BerpZHDI6"
  },
  {
   "cell_type": "code",
   "source": [
    "# функция, которая ищет ближайшее совпадение\n",
    "def get_closest_match(word, deletion_dict, vocab, topn=10):\n",
    "\n",
    "  # генерируем все варианты удаления\n",
    "  deletions = get_deletions(word)\n",
    "  candidates = []\n",
    "\n",
    "  # находим кандидатов в словаре удалений\n",
    "  for deletion in deletions:\n",
    "    if deletion in deletion_dict:\n",
    "      candidates.extend(deletion_dict[deletion])\n",
    "\n",
    "  # находим наиболее вероятных кандидатов\n",
    "  candidates = Counter(candidates)\n",
    "  ranked_candidates = sorted(candidates.items(), key=lambda x: P(x[0]), reverse=True)\n",
    "\n",
    "  return ranked_candidates[:topn]"
   ],
   "metadata": {
    "id": "_pQdmwYp-I2P",
    "ExecuteTime": {
     "end_time": "2024-12-03T12:28:12.639012Z",
     "start_time": "2024-12-03T12:28:12.632449Z"
    }
   },
   "id": "_pQdmwYp-I2P",
   "outputs": [],
   "execution_count": 13
  },
  {
   "cell_type": "markdown",
   "source": [
    "Пробуем алгоритм на слове с опечаткой \"концерк\""
   ],
   "metadata": {
    "id": "Vx7EK8tTOIUS"
   },
   "id": "Vx7EK8tTOIUS"
  },
  {
   "cell_type": "code",
   "source": [
    "get_closest_match('концерк', deletion_dict, vocab, topn=10)"
   ],
   "metadata": {
    "colab": {
     "base_uri": "https://localhost:8080/"
    },
    "id": "eDmQpxpA-Isg",
    "outputId": "6ccdac4e-e5f7-4820-ba02-97d06c0c4597",
    "ExecuteTime": {
     "end_time": "2024-12-03T12:28:16.021023Z",
     "start_time": "2024-12-03T12:28:16.004282Z"
    }
   },
   "id": "eDmQpxpA-Isg",
   "outputs": [
    {
     "data": {
      "text/plain": [
       "[('концерт', 1), ('концерн', 1)]"
      ]
     },
     "execution_count": 14,
     "metadata": {},
     "output_type": "execute_result"
    }
   ],
   "execution_count": 14
  },
  {
   "cell_type": "markdown",
   "source": [
    "Оценка кода, используются следующие метрики:\n",
    "1) процент правильных слов;\n",
    "2) процент исправленных ошибок\n",
    "3) процент ошибочно исправленных правильных слов"
   ],
   "metadata": {
    "id": "sys60Op7-J-8"
   },
   "id": "sys60Op7-J-8"
  },
  {
   "cell_type": "code",
   "source": [
    "!pip install razdel tqdm"
   ],
   "metadata": {
    "colab": {
     "base_uri": "https://localhost:8080/"
    },
    "id": "7p0E1izjPEt_",
    "outputId": "e6ed95f5-ed06-4ef2-d4b5-aa5956b0d424"
   },
   "id": "7p0E1izjPEt_",
   "execution_count": 29,
   "outputs": [
    {
     "output_type": "stream",
     "name": "stdout",
     "text": [
      "Requirement already satisfied: razdel in /usr/local/lib/python3.10/dist-packages (0.5.0)\n",
      "Requirement already satisfied: tqdm in /usr/local/lib/python3.10/dist-packages (4.66.6)\n"
     ]
    }
   ]
  },
  {
   "cell_type": "code",
   "source": [
    "# библиотека для отслеживания прогресса\n",
    "from tqdm import tqdm"
   ],
   "metadata": {
    "id": "8fyiR9NAPT7N",
    "ExecuteTime": {
     "end_time": "2024-12-03T12:28:33.371312Z",
     "start_time": "2024-12-03T12:28:33.318305Z"
    }
   },
   "id": "8fyiR9NAPT7N",
   "outputs": [],
   "execution_count": 15
  },
  {
   "cell_type": "code",
   "source": [
    "bad = open('data/sents_with_mistakes.txt', encoding='utf8').read().splitlines()\n",
    "true = open('data/correct_sents.txt', encoding='utf8').read().splitlines()"
   ],
   "metadata": {
    "id": "IpmFhLvPVFz_",
    "ExecuteTime": {
     "end_time": "2024-12-03T12:28:35.756557Z",
     "start_time": "2024-12-03T12:28:35.746800Z"
    }
   },
   "id": "IpmFhLvPVFz_",
   "outputs": [],
   "execution_count": 16
  },
  {
   "cell_type": "code",
   "source": [
    "# напишем функцию, которая будет сопоставлять слова в правильном и ошибочном варианте\n",
    "# разобьем предложение по пробелам и удалим пунктуация на границах слов\n",
    "def align_words(sent_1, sent_2):\n",
    "    tokens_1 = sent_1.lower().split()\n",
    "    tokens_2 = sent_2.lower().split()\n",
    "\n",
    "    tokens_1 = [token.strip(punctuation) for token in tokens_1]\n",
    "    tokens_2 = [token.strip(punctuation) for token in tokens_2]\n",
    "\n",
    "    tokens_1 = [token for token in tokens_1 if token]\n",
    "    tokens_2 = [token for token in tokens_2 if token]\n",
    "\n",
    "    assert len(tokens_1) == len(tokens_2)\n",
    "\n",
    "    return list(zip(tokens_1, tokens_2))"
   ],
   "metadata": {
    "id": "ZRYYSN3KVYqO",
    "ExecuteTime": {
     "end_time": "2024-12-03T12:28:38.223949Z",
     "start_time": "2024-12-03T12:28:38.218618Z"
    }
   },
   "id": "ZRYYSN3KVYqO",
   "outputs": [],
   "execution_count": 17
  },
  {
   "cell_type": "code",
   "source": [
    "correct = 0\n",
    "total = 0\n",
    "\n",
    "total_mistaken = 0\n",
    "mistaken_fixed = 0\n",
    "\n",
    "total_correct = 0\n",
    "correct_broken = 0\n",
    "\n",
    "cashed = {}\n",
    "\n",
    "for i in tqdm(range(len(true))):\n",
    "    # сопоставляем слова из правильного и ошибочного текста для каждого предложения\n",
    "    word_pairs = align_words(true[i], bad[i])\n",
    "\n",
    "    for pair in word_pairs:\n",
    "        if pair[1] not in cashed:\n",
    "          # если слово с ошибкой еще не встречалось, ищем исправление\n",
    "          predicted = get_closest_match(pair[1], deletion_dict, vocab, topn=1)\n",
    "          # добавляем исправление, если оно есть, иначе оставляем слово с ошибкой\n",
    "          predicted_word = predicted[0][0] if predicted else pair[1]\n",
    "          # кешируем слово\n",
    "          cashed[pair[1]] = predicted_word\n",
    "        else:\n",
    "          predicted_word = cashed[pair[1]]\n",
    "\n",
    "\n",
    "        if predicted_word == pair[0]:\n",
    "            correct += 1\n",
    "        total += 1\n",
    "\n",
    "        if pair[0] == pair[1]:\n",
    "            total_correct += 1\n",
    "            if pair[0] !=  predicted_word:\n",
    "                correct_broken += 1\n",
    "        else:\n",
    "            total_mistaken += 1\n",
    "            if pair[0] == predicted_word:\n",
    "                mistaken_fixed += 1"
   ],
   "metadata": {
    "colab": {
     "base_uri": "https://localhost:8080/"
    },
    "id": "Syhzqu6f-Ikq",
    "outputId": "94dfd3e3-3abc-4469-c84e-919c9c1a5ae2",
    "ExecuteTime": {
     "end_time": "2024-12-03T12:28:40.689173Z",
     "start_time": "2024-12-03T12:28:40.583396Z"
    }
   },
   "id": "Syhzqu6f-Ikq",
   "outputs": [
    {
     "name": "stderr",
     "output_type": "stream",
     "text": [
      "100%|██████████| 915/915 [00:00<00:00, 9713.34it/s]\n"
     ]
    }
   ],
   "execution_count": 18
  },
  {
   "cell_type": "code",
   "source": [
    "print(\"Процент правильных слов:\", correct/total)\n",
    "print(\"Процент исправленных ошибок:\", mistaken_fixed/total_mistaken)\n",
    "print(\"Процент ошибочно исправленных правильных слов:\", correct_broken/total_correct)"
   ],
   "metadata": {
    "colab": {
     "base_uri": "https://localhost:8080/"
    },
    "id": "nmnQ5qkL-nRe",
    "outputId": "cfa4798e-05e5-4aad-b4f2-a8a8f0348442",
    "ExecuteTime": {
     "end_time": "2024-12-03T12:28:45.373271Z",
     "start_time": "2024-12-03T12:28:45.365073Z"
    }
   },
   "id": "nmnQ5qkL-nRe",
   "outputs": [
    {
     "name": "stdout",
     "output_type": "stream",
     "text": [
      "Процент правильных слов: 0.43491745872936466\n",
      "Процент исправленных ошибок: 0.2127329192546584\n",
      "Процент ошибочно исправленных правильных слов: 0.5322154588262318\n"
     ]
    }
   ],
   "execution_count": 19
  }
 ],
 "metadata": {
  "kernelspec": {
   "display_name": "Python 3 (ipykernel)",
   "language": "python",
   "name": "python3"
  },
  "language_info": {
   "codemirror_mode": {
    "name": "ipython",
    "version": 3
   },
   "file_extension": ".py",
   "mimetype": "text/x-python",
   "name": "python",
   "nbconvert_exporter": "python",
   "pygments_lexer": "ipython3",
   "version": "3.9.16"
  },
  "colab": {
   "provenance": []
  }
 },
 "nbformat": 4,
 "nbformat_minor": 5
}
