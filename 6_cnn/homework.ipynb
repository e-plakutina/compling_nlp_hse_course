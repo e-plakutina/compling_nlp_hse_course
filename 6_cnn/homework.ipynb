{
  "cells": [
    {
      "cell_type": "markdown",
      "id": "4ca384d0-da9b-41bc-a902-ee069922c0c2",
      "metadata": {
        "id": "4ca384d0-da9b-41bc-a902-ee069922c0c2"
      },
      "source": [
        "## Домашка\n",
        "\n",
        "### Задание 1 (8 баллов)\n",
        "Обучите модель с минимум 15 слоями, где у каждого слоя разные параметры (Dropout, Conv1d и Pooling, Dense считаются слоями, остальное нет, но их тоже можно использовать). Как минимум 4 слоя должны быть наложены друг на друга и как минимум 2 параллельных слоя (последовательности слоев). Должен быть хотя бы один слой каждого типа.\n",
        "\n",
        "При обучении используйте колбек для отслеживания лучшей модели. Ориентируйтесь на Recall@Precision меру. Качество модели не должно быть околонулевым. Если метрики не растут, то попробуйте пообучать подольше или перестроить саму сеть.\n",
        "\n",
        "Советы: Начните с небольших сетей и постепенно добавляйте, не пытайтесь сразу собрать все слои. Иногда кернел может крашиться просто так или из-за слишком больших матриц."
      ]
    },
    {
      "cell_type": "code",
      "execution_count": 24,
      "id": "2dcb010f-90e2-4a23-bbdd-4b6df8a94c31",
      "metadata": {
        "id": "2dcb010f-90e2-4a23-bbdd-4b6df8a94c31"
      },
      "outputs": [],
      "source": [
        "import os\n",
        "os.environ[\"KERAS_BACKEND\"] = \"torch\""
      ]
    },
    {
      "cell_type": "code",
      "source": [
        "import keras\n",
        "print(keras.__version__)"
      ],
      "metadata": {
        "colab": {
          "base_uri": "https://localhost:8080/"
        },
        "id": "l1ln2kBbNk9d",
        "outputId": "bfedb486-6df5-4710-c74b-59717bd550d0"
      },
      "id": "l1ln2kBbNk9d",
      "execution_count": 25,
      "outputs": [
        {
          "output_type": "stream",
          "name": "stdout",
          "text": [
            "3.8.0\n"
          ]
        }
      ]
    },
    {
      "cell_type": "code",
      "source": [
        "import pandas as pd\n",
        "import numpy as np\n",
        "from string import punctuation\n",
        "from sklearn.model_selection import train_test_split\n",
        "from collections import Counter\n",
        "import matplotlib.pyplot as plt\n",
        "%matplotlib inline"
      ],
      "metadata": {
        "id": "CGPof4IVNmux"
      },
      "id": "CGPof4IVNmux",
      "execution_count": 26,
      "outputs": []
    },
    {
      "cell_type": "code",
      "source": [
        "data = pd.read_csv('lenta_40k.csv.zip')"
      ],
      "metadata": {
        "id": "Mv-RmkwcNopF"
      },
      "id": "Mv-RmkwcNopF",
      "execution_count": 27,
      "outputs": []
    },
    {
      "cell_type": "code",
      "source": [
        "def preprocess(text):\n",
        "    tokens = text.lower().split()\n",
        "    tokens = [token.strip(punctuation) for token in tokens]\n",
        "    return tokens"
      ],
      "metadata": {
        "id": "TWvtUA5mNq7e"
      },
      "id": "TWvtUA5mNq7e",
      "execution_count": 28,
      "outputs": []
    },
    {
      "cell_type": "code",
      "source": [
        "# словарь\n",
        "vocab = Counter()\n",
        "\n",
        "for text in data.text:\n",
        "    vocab.update(preprocess(text))"
      ],
      "metadata": {
        "id": "b5CGLATINw-4"
      },
      "id": "b5CGLATINw-4",
      "execution_count": 29,
      "outputs": []
    },
    {
      "cell_type": "code",
      "source": [
        "# отфильтрованный словарь\n",
        "filtered_vocab = set()\n",
        "\n",
        "for word in vocab:\n",
        "    if vocab[word] > 30:\n",
        "        filtered_vocab.add(word)"
      ],
      "metadata": {
        "id": "Xyr_VP24Ny-p"
      },
      "id": "Xyr_VP24Ny-p",
      "execution_count": 30,
      "outputs": []
    },
    {
      "cell_type": "code",
      "source": [
        "# индексируем слова\n",
        "word2id = {'PAD':0}\n",
        "\n",
        "for word in filtered_vocab:\n",
        "    word2id[word] = len(word2id)"
      ],
      "metadata": {
        "id": "0H0SnlvJN2MA"
      },
      "id": "0H0SnlvJN2MA",
      "execution_count": 31,
      "outputs": []
    },
    {
      "cell_type": "code",
      "source": [
        "id2word = {i:word for word, i in word2id.items()}"
      ],
      "metadata": {
        "id": "Yl4OV07_N4Es"
      },
      "id": "Yl4OV07_N4Es",
      "execution_count": 32,
      "outputs": []
    },
    {
      "cell_type": "code",
      "source": [
        "# переводим тексты в последовательности индексов\n",
        "X = []\n",
        "\n",
        "for text in data.text:\n",
        "    tokens = preprocess(text)\n",
        "    ids = [word2id.get(token, 1) for token in tokens]\n",
        "    X.append(ids)"
      ],
      "metadata": {
        "id": "9i03WZhDN4pe"
      },
      "id": "9i03WZhDN4pe",
      "execution_count": 33,
      "outputs": []
    },
    {
      "cell_type": "code",
      "source": [
        "MAX_LEN = max(len(x) for x in X)"
      ],
      "metadata": {
        "id": "X2ffdWw0N6hk"
      },
      "id": "X2ffdWw0N6hk",
      "execution_count": 34,
      "outputs": []
    },
    {
      "cell_type": "code",
      "source": [
        "MEAN_LEN = np.median([len(x) for x in X])"
      ],
      "metadata": {
        "id": "Sn_VKFPLN9Ae"
      },
      "id": "Sn_VKFPLN9Ae",
      "execution_count": 35,
      "outputs": []
    },
    {
      "cell_type": "code",
      "source": [
        "MAX_LEN, int(MEAN_LEN)"
      ],
      "metadata": {
        "colab": {
          "base_uri": "https://localhost:8080/"
        },
        "id": "bS0f7obxOAB6",
        "outputId": "9af823ec-6edd-4314-c386-59c9e2dea5f7"
      },
      "id": "bS0f7obxOAB6",
      "execution_count": 36,
      "outputs": [
        {
          "output_type": "execute_result",
          "data": {
            "text/plain": [
              "(1748, 170)"
            ]
          },
          "metadata": {},
          "execution_count": 36
        }
      ]
    },
    {
      "cell_type": "code",
      "source": [
        "MAX_LEN = int(MEAN_LEN + 30)"
      ],
      "metadata": {
        "id": "X0K4P2n-OCVC"
      },
      "id": "X0K4P2n-OCVC",
      "execution_count": 37,
      "outputs": []
    },
    {
      "cell_type": "code",
      "source": [
        "# паддинг\n",
        "X = keras.preprocessing.sequence.pad_sequences(X, maxlen=MAX_LEN)"
      ],
      "metadata": {
        "id": "iRrINcyPOFNX"
      },
      "id": "iRrINcyPOFNX",
      "execution_count": 38,
      "outputs": []
    },
    {
      "cell_type": "code",
      "source": [
        "X.shape"
      ],
      "metadata": {
        "colab": {
          "base_uri": "https://localhost:8080/"
        },
        "id": "WvgLOdOROHtb",
        "outputId": "0d9673de-17b9-4a85-befb-111441fbb534"
      },
      "id": "WvgLOdOROHtb",
      "execution_count": 39,
      "outputs": [
        {
          "output_type": "execute_result",
          "data": {
            "text/plain": [
              "(44356, 200)"
            ]
          },
          "metadata": {},
          "execution_count": 39
        }
      ]
    },
    {
      "cell_type": "code",
      "source": [
        "id2label = {i:label for i, label in enumerate(set(data.topic.values))}\n",
        "label2id = {l:i for i, l in id2label.items()}"
      ],
      "metadata": {
        "id": "VhFbersiOJdp"
      },
      "id": "VhFbersiOJdp",
      "execution_count": 40,
      "outputs": []
    },
    {
      "cell_type": "code",
      "source": [
        "y = keras.utils.to_categorical([label2id[label] for label in data.topic.values])"
      ],
      "metadata": {
        "id": "p0klmOZxOLd6"
      },
      "id": "p0klmOZxOLd6",
      "execution_count": 41,
      "outputs": []
    },
    {
      "cell_type": "code",
      "source": [
        "X_train, X_valid, y_train, y_valid = train_test_split(X, y, test_size=0.05, random_state=42)"
      ],
      "metadata": {
        "id": "_bGKGRbfONgZ"
      },
      "id": "_bGKGRbfONgZ",
      "execution_count": 42,
      "outputs": []
    },
    {
      "cell_type": "code",
      "source": [
        "# ModelCheckpoint сохраняет лучшие версии моделей\n",
        "checkpoint = keras.callbacks.ModelCheckpoint('model.weights.h5', # названия файла\n",
        "                                                monitor='val_rec@prec', # за какой метрикой следить\n",
        "                                                verbose=1, # будет печатать что происходит\n",
        "                                                save_weights_only=True, # если нужно только веса сохранить\n",
        "                                                save_best_only=True, # сохранять только лучшие\n",
        "                                                mode='max', # если метрика должна расти, то тут max и min если наоборот\n",
        "                                                save_freq='epoch' # как часто вызывать\n",
        "                                               )\n",
        "\n",
        "# EarlyStopping позволяет автоматически остановить обучение, если качество не улучшается\n",
        "early_stop = keras.callbacks.EarlyStopping(monitor='val_rec@prec',\n",
        "                                              min_delta=0.01, # какая разница считается как улучшение\n",
        "                                              patience=5, # сколько эпох терпеть отсутствие улучшений\n",
        "                                              verbose=1,\n",
        "                                              mode='max',\n",
        "                                              )"
      ],
      "metadata": {
        "id": "aBxWGdPvOPoz"
      },
      "id": "aBxWGdPvOPoz",
      "execution_count": 43,
      "outputs": []
    },
    {
      "cell_type": "code",
      "source": [
        "inputs = keras.layers.Input(shape=(MAX_LEN,))\n",
        "\n",
        "embeddings = keras.layers.Embedding(input_dim=len(word2id), output_dim=100)(inputs)\n",
        "\n",
        "\n",
        "# параллельные сверточные слои:\n",
        "conv1 = keras.layers.Conv1D(filters=64, kernel_size=3, activation='relu', padding='same')(embeddings)\n",
        "conv2 = keras.layers.Conv1D(filters=64, kernel_size=5, activation='relu', padding='same')(embeddings)\n",
        "conv3 = keras.layers.Conv1D(filters=64, kernel_size=7, activation='relu', padding='same')(embeddings)\n",
        "\n",
        "concat1 = keras.layers.concatenate([conv1, conv2, conv3])  # объединяем\n",
        "\n",
        "drop1 = keras.layers.Dropout(0.5)(concat1)\n",
        "\n",
        "\n",
        "# еще параллельные + наложенные слои:\n",
        "convs = []\n",
        "\n",
        "for ks, filter in [(3, 32), (4, 48), (5, 64), (7, 80), (10, 96)]:\n",
        "    conv4 = keras.layers.Conv1D(kernel_size=ks, filters=filter, padding='same', strides=1)(drop1)\n",
        "    conv5 = keras.layers.Conv1D(kernel_size=ks, filters=filter, padding='same', strides=1, activation='relu', kernel_regularizer='l2')(conv4)\n",
        "    conv6 = keras.layers.ZeroPadding1D(padding=1)(conv5)\n",
        "    conv7 = keras.layers.MaxPooling1D(pool_size=2)(conv6)\n",
        "    convs.append(conv7)\n",
        "\n",
        "concat = keras.layers.concatenate(convs, axis=2)\n",
        "drop2 = keras.layers.Dropout(0.3)(concat)\n",
        "\n",
        "\n",
        "conv8 = keras.layers.Conv1D(kernel_size=5, filters=256, padding='same', activation='relu')(drop2)\n",
        "conv9 = keras.layers.MaxPooling1D(pool_size=2)(conv8)\n",
        "drop3 = keras.layers.Dropout(0.4)(conv9)\n",
        "\n",
        "\n",
        "flatten = keras.layers.Flatten()(drop3)\n",
        "dense = keras.layers.Dense(units=50, activation='relu')(flatten)\n",
        "drop4 = keras.layers.Dropout(0.5)(dense)\n",
        "\n",
        "dense2 = keras.layers.Dense(units=128, activation='relu')(drop4)\n",
        "outputs = keras.layers.Dense(units=len(label2id), activation='softmax')(dense2)\n",
        "\n",
        "\n",
        "\n",
        "model = keras.Model(inputs=inputs, outputs=outputs)\n",
        "optimizer = keras.optimizers.Adam(learning_rate=0.001)\n",
        "model.compile(optimizer=optimizer,\n",
        "              loss='binary_crossentropy',\n",
        "              metrics=[keras.metrics.RecallAtPrecision(0.8, name='rec@prec')],\n",
        "              )"
      ],
      "metadata": {
        "id": "Ws5gU_apOTH2"
      },
      "id": "Ws5gU_apOTH2",
      "execution_count": null,
      "outputs": []
    },
    {
      "cell_type": "code",
      "source": [
        "model.fit(X_train, y_train,\n",
        "          validation_data=(X_valid, y_valid),\n",
        "          batch_size=2000,\n",
        "         epochs=100,\n",
        "         callbacks=[checkpoint, early_stop])"
      ],
      "metadata": {
        "colab": {
          "base_uri": "https://localhost:8080/"
        },
        "id": "o5LzoZGROWbO",
        "outputId": "bade455a-fa51-405b-c53d-50b7da5f369f"
      },
      "id": "o5LzoZGROWbO",
      "execution_count": null,
      "outputs": [
        {
          "output_type": "stream",
          "name": "stderr",
          "text": [
            "/usr/local/lib/python3.11/dist-packages/keras/src/backend/torch/nn.py:466: UserWarning: Using padding='same' with even kernel lengths and odd dilation may require a zero-padded copy of the input be created (Triggered internally at ../aten/src/ATen/native/Convolution.cpp:1036.)\n",
            "  outputs = tnn.conv1d(\n"
          ]
        },
        {
          "output_type": "stream",
          "name": "stdout",
          "text": [
            "Epoch 1/100\n",
            "\u001b[1m22/22\u001b[0m \u001b[32m━━━━━━━━━━━━━━━━━━━━\u001b[0m\u001b[37m\u001b[0m \u001b[1m0s\u001b[0m 863ms/step - loss: 2.8401 - rec@prec: 0.0000e+00\n",
            "Epoch 1: val_rec@prec improved from -inf to 0.00000, saving model to model.weights.h5\n",
            "\u001b[1m22/22\u001b[0m \u001b[32m━━━━━━━━━━━━━━━━━━━━\u001b[0m\u001b[37m\u001b[0m \u001b[1m20s\u001b[0m 884ms/step - loss: 2.8207 - rec@prec: 0.0000e+00 - val_loss: 1.4862 - val_rec@prec: 0.0000e+00\n",
            "Epoch 2/100\n",
            "\u001b[1m22/22\u001b[0m \u001b[32m━━━━━━━━━━━━━━━━━━━━\u001b[0m\u001b[37m\u001b[0m \u001b[1m0s\u001b[0m 849ms/step - loss: 1.2431 - rec@prec: 1.1246e-04\n",
            "Epoch 2: val_rec@prec did not improve from 0.00000\n",
            "\u001b[1m22/22\u001b[0m \u001b[32m━━━━━━━━━━━━━━━━━━━━\u001b[0m\u001b[37m\u001b[0m \u001b[1m19s\u001b[0m 863ms/step - loss: 1.2350 - rec@prec: 1.1170e-04 - val_loss: 0.6945 - val_rec@prec: 0.0000e+00\n",
            "Epoch 3/100\n",
            "\u001b[1m22/22\u001b[0m \u001b[32m━━━━━━━━━━━━━━━━━━━━\u001b[0m\u001b[37m\u001b[0m \u001b[1m0s\u001b[0m 841ms/step - loss: 0.5984 - rec@prec: 1.1597e-04\n",
            "Epoch 3: val_rec@prec did not improve from 0.00000\n",
            "\u001b[1m22/22\u001b[0m \u001b[32m━━━━━━━━━━━━━━━━━━━━\u001b[0m\u001b[37m\u001b[0m \u001b[1m19s\u001b[0m 855ms/step - loss: 0.5954 - rec@prec: 1.1196e-04 - val_loss: 0.3902 - val_rec@prec: 0.0000e+00\n",
            "Epoch 4/100\n",
            "\u001b[1m22/22\u001b[0m \u001b[32m━━━━━━━━━━━━━━━━━━━━\u001b[0m\u001b[37m\u001b[0m \u001b[1m0s\u001b[0m 826ms/step - loss: 0.3480 - rec@prec: 1.5165e-04\n",
            "Epoch 4: val_rec@prec improved from 0.00000 to 0.06177, saving model to model.weights.h5\n",
            "\u001b[1m22/22\u001b[0m \u001b[32m━━━━━━━━━━━━━━━━━━━━\u001b[0m\u001b[37m\u001b[0m \u001b[1m19s\u001b[0m 849ms/step - loss: 0.3467 - rec@prec: 1.5744e-04 - val_loss: 0.2583 - val_rec@prec: 0.0618\n",
            "Epoch 5/100\n",
            "\u001b[1m22/22\u001b[0m \u001b[32m━━━━━━━━━━━━━━━━━━━━\u001b[0m\u001b[37m\u001b[0m \u001b[1m0s\u001b[0m 826ms/step - loss: 0.2338 - rec@prec: 0.0718\n",
            "Epoch 5: val_rec@prec improved from 0.06177 to 0.08161, saving model to model.weights.h5\n",
            "\u001b[1m22/22\u001b[0m \u001b[32m━━━━━━━━━━━━━━━━━━━━\u001b[0m\u001b[37m\u001b[0m \u001b[1m19s\u001b[0m 853ms/step - loss: 0.2332 - rec@prec: 0.0726 - val_loss: 0.1986 - val_rec@prec: 0.0816\n",
            "Epoch 6/100\n",
            "\u001b[1m22/22\u001b[0m \u001b[32m━━━━━━━━━━━━━━━━━━━━\u001b[0m\u001b[37m\u001b[0m \u001b[1m0s\u001b[0m 829ms/step - loss: 0.1787 - rec@prec: 0.1241\n",
            "Epoch 6: val_rec@prec improved from 0.08161 to 0.11362, saving model to model.weights.h5\n",
            "\u001b[1m22/22\u001b[0m \u001b[32m━━━━━━━━━━━━━━━━━━━━\u001b[0m\u001b[37m\u001b[0m \u001b[1m19s\u001b[0m 852ms/step - loss: 0.1784 - rec@prec: 0.1242 - val_loss: 0.1666 - val_rec@prec: 0.1136\n",
            "Epoch 7/100\n",
            "\u001b[1m22/22\u001b[0m \u001b[32m━━━━━━━━━━━━━━━━━━━━\u001b[0m\u001b[37m\u001b[0m \u001b[1m0s\u001b[0m 831ms/step - loss: 0.1501 - rec@prec: 0.1563\n",
            "Epoch 7: val_rec@prec improved from 0.11362 to 0.14563, saving model to model.weights.h5\n",
            "\u001b[1m22/22\u001b[0m \u001b[32m━━━━━━━━━━━━━━━━━━━━\u001b[0m\u001b[37m\u001b[0m \u001b[1m19s\u001b[0m 859ms/step - loss: 0.1499 - rec@prec: 0.1564 - val_loss: 0.1557 - val_rec@prec: 0.1456\n",
            "Epoch 8/100\n",
            "\u001b[1m22/22\u001b[0m \u001b[32m━━━━━━━━━━━━━━━━━━━━\u001b[0m\u001b[37m\u001b[0m \u001b[1m0s\u001b[0m 828ms/step - loss: 0.1351 - rec@prec: 0.1771\n",
            "Epoch 8: val_rec@prec improved from 0.14563 to 0.16997, saving model to model.weights.h5\n",
            "\u001b[1m22/22\u001b[0m \u001b[32m━━━━━━━━━━━━━━━━━━━━\u001b[0m\u001b[37m\u001b[0m \u001b[1m19s\u001b[0m 852ms/step - loss: 0.1351 - rec@prec: 0.1773 - val_loss: 0.1490 - val_rec@prec: 0.1700\n",
            "Epoch 9/100\n",
            "\u001b[1m22/22\u001b[0m \u001b[32m━━━━━━━━━━━━━━━━━━━━\u001b[0m\u001b[37m\u001b[0m \u001b[1m0s\u001b[0m 827ms/step - loss: 0.1233 - rec@prec: 0.2440\n",
            "Epoch 9: val_rec@prec improved from 0.16997 to 0.24436, saving model to model.weights.h5\n",
            "\u001b[1m22/22\u001b[0m \u001b[32m━━━━━━━━━━━━━━━━━━━━\u001b[0m\u001b[37m\u001b[0m \u001b[1m19s\u001b[0m 853ms/step - loss: 0.1232 - rec@prec: 0.2448 - val_loss: 0.1342 - val_rec@prec: 0.2444\n",
            "Epoch 10/100\n",
            "\u001b[1m22/22\u001b[0m \u001b[32m━━━━━━━━━━━━━━━━━━━━\u001b[0m\u001b[37m\u001b[0m \u001b[1m0s\u001b[0m 826ms/step - loss: 0.1115 - rec@prec: 0.3177\n",
            "Epoch 10: val_rec@prec improved from 0.24436 to 0.29261, saving model to model.weights.h5\n",
            "\u001b[1m22/22\u001b[0m \u001b[32m━━━━━━━━━━━━━━━━━━━━\u001b[0m\u001b[37m\u001b[0m \u001b[1m19s\u001b[0m 848ms/step - loss: 0.1115 - rec@prec: 0.3182 - val_loss: 0.1320 - val_rec@prec: 0.2926\n",
            "Epoch 11/100\n",
            "\u001b[1m22/22\u001b[0m \u001b[32m━━━━━━━━━━━━━━━━━━━━\u001b[0m\u001b[37m\u001b[0m \u001b[1m0s\u001b[0m 827ms/step - loss: 0.1019 - rec@prec: 0.3982\n",
            "Epoch 11: val_rec@prec improved from 0.29261 to 0.32552, saving model to model.weights.h5\n",
            "\u001b[1m22/22\u001b[0m \u001b[32m━━━━━━━━━━━━━━━━━━━━\u001b[0m\u001b[37m\u001b[0m \u001b[1m19s\u001b[0m 849ms/step - loss: 0.1019 - rec@prec: 0.3982 - val_loss: 0.1292 - val_rec@prec: 0.3255\n",
            "Epoch 12/100\n",
            "\u001b[1m22/22\u001b[0m \u001b[32m━━━━━━━━━━━━━━━━━━━━\u001b[0m\u001b[37m\u001b[0m \u001b[1m0s\u001b[0m 827ms/step - loss: 0.0943 - rec@prec: 0.4632\n",
            "Epoch 12: val_rec@prec improved from 0.32552 to 0.32913, saving model to model.weights.h5\n",
            "\u001b[1m22/22\u001b[0m \u001b[32m━━━━━━━━━━━━━━━━━━━━\u001b[0m\u001b[37m\u001b[0m \u001b[1m19s\u001b[0m 850ms/step - loss: 0.0943 - rec@prec: 0.4634 - val_loss: 0.1295 - val_rec@prec: 0.3291\n",
            "Epoch 13/100\n",
            "\u001b[1m22/22\u001b[0m \u001b[32m━━━━━━━━━━━━━━━━━━━━\u001b[0m\u001b[37m\u001b[0m \u001b[1m0s\u001b[0m 827ms/step - loss: 0.0890 - rec@prec: 0.5148\n",
            "Epoch 13: val_rec@prec improved from 0.32913 to 0.35753, saving model to model.weights.h5\n",
            "\u001b[1m22/22\u001b[0m \u001b[32m━━━━━━━━━━━━━━━━━━━━\u001b[0m\u001b[37m\u001b[0m \u001b[1m19s\u001b[0m 850ms/step - loss: 0.0890 - rec@prec: 0.5152 - val_loss: 0.1305 - val_rec@prec: 0.3575\n",
            "Epoch 14/100\n",
            "\u001b[1m22/22\u001b[0m \u001b[32m━━━━━━━━━━━━━━━━━━━━\u001b[0m\u001b[37m\u001b[0m \u001b[1m0s\u001b[0m 826ms/step - loss: 0.0847 - rec@prec: 0.5672\n",
            "Epoch 14: val_rec@prec improved from 0.35753 to 0.39044, saving model to model.weights.h5\n",
            "\u001b[1m22/22\u001b[0m \u001b[32m━━━━━━━━━━━━━━━━━━━━\u001b[0m\u001b[37m\u001b[0m \u001b[1m19s\u001b[0m 849ms/step - loss: 0.0847 - rec@prec: 0.5676 - val_loss: 0.1302 - val_rec@prec: 0.3904\n",
            "Epoch 15/100\n",
            "\u001b[1m22/22\u001b[0m \u001b[32m━━━━━━━━━━━━━━━━━━━━\u001b[0m\u001b[37m\u001b[0m \u001b[1m0s\u001b[0m 827ms/step - loss: 0.0774 - rec@prec: 0.6190\n",
            "Epoch 15: val_rec@prec improved from 0.39044 to 0.41659, saving model to model.weights.h5\n",
            "\u001b[1m22/22\u001b[0m \u001b[32m━━━━━━━━━━━━━━━━━━━━\u001b[0m\u001b[37m\u001b[0m \u001b[1m19s\u001b[0m 849ms/step - loss: 0.0774 - rec@prec: 0.6192 - val_loss: 0.1283 - val_rec@prec: 0.4166\n",
            "Epoch 16/100\n",
            "\u001b[1m22/22\u001b[0m \u001b[32m━━━━━━━━━━━━━━━━━━━━\u001b[0m\u001b[37m\u001b[0m \u001b[1m0s\u001b[0m 826ms/step - loss: 0.0718 - rec@prec: 0.6586\n",
            "Epoch 16: val_rec@prec improved from 0.41659 to 0.43237, saving model to model.weights.h5\n",
            "\u001b[1m22/22\u001b[0m \u001b[32m━━━━━━━━━━━━━━━━━━━━\u001b[0m\u001b[37m\u001b[0m \u001b[1m19s\u001b[0m 849ms/step - loss: 0.0718 - rec@prec: 0.6588 - val_loss: 0.1358 - val_rec@prec: 0.4324\n",
            "Epoch 17/100\n",
            "\u001b[1m22/22\u001b[0m \u001b[32m━━━━━━━━━━━━━━━━━━━━\u001b[0m\u001b[37m\u001b[0m \u001b[1m0s\u001b[0m 826ms/step - loss: 0.0655 - rec@prec: 0.6991\n",
            "Epoch 17: val_rec@prec improved from 0.43237 to 0.43372, saving model to model.weights.h5\n",
            "\u001b[1m22/22\u001b[0m \u001b[32m━━━━━━━━━━━━━━━━━━━━\u001b[0m\u001b[37m\u001b[0m \u001b[1m19s\u001b[0m 848ms/step - loss: 0.0655 - rec@prec: 0.6991 - val_loss: 0.1346 - val_rec@prec: 0.4337\n",
            "Epoch 18/100\n",
            "\u001b[1m22/22\u001b[0m \u001b[32m━━━━━━━━━━━━━━━━━━━━\u001b[0m\u001b[37m\u001b[0m \u001b[1m0s\u001b[0m 825ms/step - loss: 0.0629 - rec@prec: 0.7272\n",
            "Epoch 18: val_rec@prec did not improve from 0.43372\n",
            "\u001b[1m22/22\u001b[0m \u001b[32m━━━━━━━━━━━━━━━━━━━━\u001b[0m\u001b[37m\u001b[0m \u001b[1m18s\u001b[0m 840ms/step - loss: 0.0629 - rec@prec: 0.7272 - val_loss: 0.1381 - val_rec@prec: 0.4161\n",
            "Epoch 19/100\n",
            "\u001b[1m22/22\u001b[0m \u001b[32m━━━━━━━━━━━━━━━━━━━━\u001b[0m\u001b[37m\u001b[0m \u001b[1m0s\u001b[0m 825ms/step - loss: 0.0596 - rec@prec: 0.7520\n",
            "Epoch 19: val_rec@prec did not improve from 0.43372\n",
            "\u001b[1m22/22\u001b[0m \u001b[32m━━━━━━━━━━━━━━━━━━━━\u001b[0m\u001b[37m\u001b[0m \u001b[1m18s\u001b[0m 839ms/step - loss: 0.0596 - rec@prec: 0.7519 - val_loss: 0.1469 - val_rec@prec: 0.4049\n",
            "Epoch 20/100\n",
            "\u001b[1m22/22\u001b[0m \u001b[32m━━━━━━━━━━━━━━━━━━━━\u001b[0m\u001b[37m\u001b[0m \u001b[1m0s\u001b[0m 823ms/step - loss: 0.0563 - rec@prec: 0.7767\n",
            "Epoch 20: val_rec@prec did not improve from 0.43372\n",
            "\u001b[1m22/22\u001b[0m \u001b[32m━━━━━━━━━━━━━━━━━━━━\u001b[0m\u001b[37m\u001b[0m \u001b[1m18s\u001b[0m 837ms/step - loss: 0.0563 - rec@prec: 0.7769 - val_loss: 0.1429 - val_rec@prec: 0.4008\n",
            "Epoch 21/100\n",
            "\u001b[1m22/22\u001b[0m \u001b[32m━━━━━━━━━━━━━━━━━━━━\u001b[0m\u001b[37m\u001b[0m \u001b[1m0s\u001b[0m 824ms/step - loss: 0.0542 - rec@prec: 0.7934\n",
            "Epoch 21: val_rec@prec did not improve from 0.43372\n",
            "\u001b[1m22/22\u001b[0m \u001b[32m━━━━━━━━━━━━━━━━━━━━\u001b[0m\u001b[37m\u001b[0m \u001b[1m18s\u001b[0m 838ms/step - loss: 0.0542 - rec@prec: 0.7934 - val_loss: 0.1643 - val_rec@prec: 0.3859\n",
            "Epoch 21: early stopping\n"
          ]
        },
        {
          "output_type": "execute_result",
          "data": {
            "text/plain": [
              "<keras.src.callbacks.history.History at 0x7afc394a74d0>"
            ]
          },
          "metadata": {},
          "execution_count": 22
        }
      ]
    },
    {
      "cell_type": "code",
      "source": [
        "print(model.history.history.keys())\n",
        "# summarize history for accuracy\n",
        "plt.plot(model.history.history['rec@prec'])\n",
        "plt.plot(model.history.history['val_rec@prec'])\n",
        "plt.title('model metrics')\n",
        "plt.ylabel('recall at precision')\n",
        "plt.xlabel('epoch')\n",
        "plt.legend(['train', 'val'], loc='upper left')\n",
        "plt.show()"
      ],
      "metadata": {
        "colab": {
          "base_uri": "https://localhost:8080/",
          "height": 489
        },
        "id": "6DOtpphOOYH0",
        "outputId": "8b78027d-b488-41cd-d486-6f9a0c293a7f"
      },
      "id": "6DOtpphOOYH0",
      "execution_count": null,
      "outputs": [
        {
          "output_type": "stream",
          "name": "stdout",
          "text": [
            "dict_keys(['loss', 'rec@prec', 'val_loss', 'val_rec@prec'])\n"
          ]
        },
        {
          "output_type": "display_data",
          "data": {
            "text/plain": [
              "<Figure size 640x480 with 1 Axes>"
            ],
            "image/png": "[encoded data removed]"
          },
          "metadata": {}
        }
      ]
    },
    {
      "cell_type": "markdown",
      "source": [
        "### Задание 2 (2 балла)\n",
        "Обучите нейросеть со сверточными слоями с архитектурой похожей на Unet - https://en.wikipedia.org/wiki/U-Net\n",
        "\n",
        "Не нужно воспроизводить все в точности, главное, чтобы было сокращение длины последовательности с помощью CNN, а затем обратное увеличение длины последовательности до изначальной с residual связями между промежуточными шагами с одинаковыми размерностями.\n",
        "Изменений размерности должно быть хотя бы 3 и соответственно residual связей тоже.\n",
        "\n",
        "Для повышения размерности используйте keras.layers.UpSampling1D\n",
        "Полученная модель должна давать ненулевое качество на той же самой задаче классификации текстов."
      ],
      "metadata": {
        "id": "2P3L1XsnNaav"
      },
      "id": "2P3L1XsnNaav"
    },
    {
      "cell_type": "code",
      "source": [
        "# ModelCheckpoint сохраняет лучшие версии моделей\n",
        "checkpoint_unet = keras.callbacks.ModelCheckpoint('model.weights.h5', # названия файла\n",
        "                                                monitor='val_rec@prec', # за какой метрикой следить\n",
        "                                                verbose=1, # будет печатать что происходит\n",
        "                                                save_weights_only=True, # если нужно только веса сохранить\n",
        "                                                save_best_only=True, # сохранять только лучшие\n",
        "                                                mode='max', # если метрика должна расти, то тут max и min если наоборот\n",
        "                                                save_freq='epoch' # как часто вызывать\n",
        "                                               )\n",
        "\n",
        "# EarlyStopping позволяет автоматически остановить обучение, если качество не улучшается\n",
        "early_stop_unet = keras.callbacks.EarlyStopping(monitor='val_rec@prec',\n",
        "                                              min_delta=0.01, # какая разница считается как улучшение\n",
        "                                              patience=3, # сколько эпох терпеть отсутствие улучшений\n",
        "                                              verbose=1,\n",
        "                                              mode='max',\n",
        "                                              )"
      ],
      "metadata": {
        "id": "vWiaVM8-qEwz"
      },
      "id": "vWiaVM8-qEwz",
      "execution_count": 49,
      "outputs": []
    },
    {
      "cell_type": "code",
      "source": [
        "# inputs layer\n",
        "inputs_unet = keras.layers.Input(shape=(MAX_LEN,))\n",
        "embeddings_unet = keras.layers.Embedding(input_dim=len(word2id), output_dim=128, input_length=MAX_LEN)(inputs_unet)\n",
        "\n",
        "\n",
        "# contracting path (encoder)\n",
        "conv_unet_1 = keras.layers.Conv1D(kernel_size=3, filters=64, padding='same', activation='relu')(embeddings_unet)\n",
        "conv_unet_1 = keras.layers.Conv1D(kernel_size=3, filters=64, padding='same', activation='relu')(conv_unet_1)\n",
        "conv_unet_1_pooling = keras.layers.MaxPooling1D(pool_size=2)(conv_unet_1)\n",
        "\n",
        "conv_unet_2 = keras.layers.Conv1D(kernel_size=3, filters=128, padding='same', activation='relu')(conv_unet_1_pooling)\n",
        "conv_unet_2 = keras.layers.Conv1D(kernel_size=3, filters=128, padding='same', activation='relu')(conv_unet_2)\n",
        "conv_unet_2_pooling = keras.layers.MaxPooling1D(pool_size=2)(conv_unet_2)\n",
        "\n",
        "conv_unet_3 = keras.layers.Conv1D(kernel_size=3, filters=256, padding='same', activation='relu')(conv_unet_2_pooling)\n",
        "conv_unet_3 = keras.layers.Conv1D(kernel_size=3, filters=256, padding='same', activation='relu')(conv_unet_3)\n",
        "conv_unet_3_pooling = keras.layers.MaxPooling1D(pool_size=2)(conv_unet_3)\n",
        "\n",
        "\n",
        "# bottleneck\n",
        "conv_unet_bottleneck = keras.layers.Conv1D(kernel_size=3, filters=512, padding='same', activation='relu')(conv_unet_3_pooling)\n",
        "conv_unet_bottleneck = keras.layers.Conv1D(kernel_size=3, filters=512, padding='same', activation='relu')(conv_unet_bottleneck)\n",
        "\n",
        "\n",
        "# expansive path (decoder)\n",
        "conv_unet_upsampling_1 = keras.layers.UpSampling1D(size=2)(conv_unet_bottleneck)\n",
        "concat_unet_1 = keras.layers.Concatenate()([conv_unet_upsampling_1, conv_unet_3])\n",
        "conv_unet_4 = keras.layers.Conv1D(kernel_size=3, filters=256, padding='same', activation='relu')(concat_unet_1)\n",
        "conv_unet_4 = keras.layers.Conv1D(kernel_size=3, filters=256, padding='same', activation='relu')(conv_unet_4)\n",
        "\n",
        "conv_unet_upsampling_2 = keras.layers.UpSampling1D(size=2)(conv_unet_4)\n",
        "concat_unet_2 = keras.layers.Concatenate()([conv_unet_upsampling_2, conv_unet_2])\n",
        "conv_unet_5 = keras.layers.Conv1D(kernel_size=3, filters=128, padding='same', activation='relu')(concat_unet_2)\n",
        "conv_unet_5 = keras.layers.Conv1D(kernel_size=3, filters=128, padding='same', activation='relu')(conv_unet_5)\n",
        "\n",
        "conv_unet_upsampling_3 = keras.layers.UpSampling1D(size=2)(conv_unet_5)\n",
        "concat_unet_3 = keras.layers.Concatenate()([conv_unet_upsampling_3, conv_unet_1])\n",
        "conv_unet_6 = keras.layers.Conv1D(kernel_size=3, filters=64, padding='same', activation='relu')(concat_unet_3)\n",
        "conv_unet_6 = keras.layers.Conv1D(kernel_size=3, filters=64, padding='same', activation='relu')(conv_unet_6)\n",
        "\n",
        "# outputs layer\n",
        "flatten_unet = keras.layers.Flatten()(conv_unet_6)\n",
        "\n",
        "outputs_unet = keras.layers.Dense(units=len(label2id), activation='softmax')(flatten_unet)\n",
        "\n",
        "\n",
        "\n",
        "model_unet = keras.Model(inputs=inputs_unet, outputs=outputs_unet)\n",
        "optimizer_unet = keras.optimizers.Adam(learning_rate=0.001)\n",
        "model_unet.compile(optimizer=optimizer_unet,\n",
        "              loss='categorical_crossentropy',\n",
        "              metrics=[keras.metrics.RecallAtPrecision(0.8, name='rec@prec')],\n",
        "              )"
      ],
      "metadata": {
        "colab": {
          "base_uri": "https://localhost:8080/"
        },
        "id": "UnCYjCLM1A9u",
        "outputId": "de51fd09-8da3-4df2-87e4-3520b12396c1"
      },
      "id": "UnCYjCLM1A9u",
      "execution_count": 50,
      "outputs": [
        {
          "output_type": "stream",
          "name": "stderr",
          "text": [
            "/usr/local/lib/python3.11/dist-packages/keras/src/layers/core/embedding.py:90: UserWarning: Argument `input_length` is deprecated. Just remove it.\n",
            "  warnings.warn(\n"
          ]
        }
      ]
    },
    {
      "cell_type": "code",
      "source": [
        "model_unet.fit(X_train, y_train,\n",
        "          validation_data=(X_valid, y_valid),\n",
        "          batch_size=2000,\n",
        "         epochs=100,\n",
        "         callbacks=[checkpoint_unet, early_stop_unet])"
      ],
      "metadata": {
        "colab": {
          "base_uri": "https://localhost:8080/"
        },
        "id": "v7Y_zBywh-7D",
        "outputId": "70e4dcb0-eb11-41a1-a30d-8d8e23c366a5"
      },
      "id": "v7Y_zBywh-7D",
      "execution_count": 51,
      "outputs": [
        {
          "output_type": "stream",
          "name": "stdout",
          "text": [
            "Epoch 1/100\n",
            "\u001b[1m22/22\u001b[0m \u001b[32m━━━━━━━━━━━━━━━━━━━━\u001b[0m\u001b[37m\u001b[0m \u001b[1m0s\u001b[0m 813ms/step - loss: 2.5698 - rec@prec: 0.0000e+00\n",
            "Epoch 1: val_rec@prec improved from -inf to 0.00000, saving model to model.weights.h5\n",
            "\u001b[1m22/22\u001b[0m \u001b[32m━━━━━━━━━━━━━━━━━━━━\u001b[0m\u001b[37m\u001b[0m \u001b[1m18s\u001b[0m 835ms/step - loss: 2.5630 - rec@prec: 0.0000e+00 - val_loss: 2.3001 - val_rec@prec: 0.0000e+00\n",
            "Epoch 2/100\n",
            "\u001b[1m22/22\u001b[0m \u001b[32m━━━━━━━━━━━━━━━━━━━━\u001b[0m\u001b[37m\u001b[0m \u001b[1m0s\u001b[0m 832ms/step - loss: 2.1588 - rec@prec: 8.7270e-05\n",
            "Epoch 2: val_rec@prec improved from 0.00000 to 0.00541, saving model to model.weights.h5\n",
            "\u001b[1m22/22\u001b[0m \u001b[32m━━━━━━━━━━━━━━━━━━━━\u001b[0m\u001b[37m\u001b[0m \u001b[1m19s\u001b[0m 862ms/step - loss: 2.1546 - rec@prec: 9.6889e-05 - val_loss: 1.9285 - val_rec@prec: 0.0054\n",
            "Epoch 3/100\n",
            "\u001b[1m22/22\u001b[0m \u001b[32m━━━━━━━━━━━━━━━━━━━━\u001b[0m\u001b[37m\u001b[0m \u001b[1m0s\u001b[0m 854ms/step - loss: 1.7762 - rec@prec: 0.0036\n",
            "Epoch 3: val_rec@prec improved from 0.00541 to 0.12128, saving model to model.weights.h5\n",
            "\u001b[1m22/22\u001b[0m \u001b[32m━━━━━━━━━━━━━━━━━━━━\u001b[0m\u001b[37m\u001b[0m \u001b[1m19s\u001b[0m 879ms/step - loss: 1.7734 - rec@prec: 0.0043 - val_loss: 1.6224 - val_rec@prec: 0.1213\n",
            "Epoch 4/100\n",
            "\u001b[1m22/22\u001b[0m \u001b[32m━━━━━━━━━━━━━━━━━━━━\u001b[0m\u001b[37m\u001b[0m \u001b[1m0s\u001b[0m 830ms/step - loss: 1.3883 - rec@prec: 0.1723\n",
            "Epoch 4: val_rec@prec improved from 0.12128 to 0.28584, saving model to model.weights.h5\n",
            "\u001b[1m22/22\u001b[0m \u001b[32m━━━━━━━━━━━━━━━━━━━━\u001b[0m\u001b[37m\u001b[0m \u001b[1m19s\u001b[0m 861ms/step - loss: 1.3858 - rec@prec: 0.1736 - val_loss: 1.4555 - val_rec@prec: 0.2858\n",
            "Epoch 5/100\n",
            "\u001b[1m22/22\u001b[0m \u001b[32m━━━━━━━━━━━━━━━━━━━━\u001b[0m\u001b[37m\u001b[0m \u001b[1m0s\u001b[0m 827ms/step - loss: 1.1203 - rec@prec: 0.3388\n",
            "Epoch 5: val_rec@prec improved from 0.28584 to 0.36835, saving model to model.weights.h5\n",
            "\u001b[1m22/22\u001b[0m \u001b[32m━━━━━━━━━━━━━━━━━━━━\u001b[0m\u001b[37m\u001b[0m \u001b[1m19s\u001b[0m 853ms/step - loss: 1.1184 - rec@prec: 0.3408 - val_loss: 1.3682 - val_rec@prec: 0.3683\n",
            "Epoch 6/100\n",
            "\u001b[1m22/22\u001b[0m \u001b[32m━━━━━━━━━━━━━━━━━━━━\u001b[0m\u001b[37m\u001b[0m \u001b[1m0s\u001b[0m 829ms/step - loss: 0.8854 - rec@prec: 0.5485\n",
            "Epoch 6: val_rec@prec improved from 0.36835 to 0.40983, saving model to model.weights.h5\n",
            "\u001b[1m22/22\u001b[0m \u001b[32m━━━━━━━━━━━━━━━━━━━━\u001b[0m\u001b[37m\u001b[0m \u001b[1m19s\u001b[0m 855ms/step - loss: 0.8848 - rec@prec: 0.5491 - val_loss: 1.3668 - val_rec@prec: 0.4098\n",
            "Epoch 7/100\n",
            "\u001b[1m22/22\u001b[0m \u001b[32m━━━━━━━━━━━━━━━━━━━━\u001b[0m\u001b[37m\u001b[0m \u001b[1m0s\u001b[0m 833ms/step - loss: 0.6978 - rec@prec: 0.7242\n",
            "Epoch 7: val_rec@prec did not improve from 0.40983\n",
            "\u001b[1m22/22\u001b[0m \u001b[32m━━━━━━━━━━━━━━━━━━━━\u001b[0m\u001b[37m\u001b[0m \u001b[1m19s\u001b[0m 847ms/step - loss: 0.6979 - rec@prec: 0.7242 - val_loss: 1.5066 - val_rec@prec: 0.3841\n",
            "Epoch 8/100\n",
            "\u001b[1m22/22\u001b[0m \u001b[32m━━━━━━━━━━━━━━━━━━━━\u001b[0m\u001b[37m\u001b[0m \u001b[1m0s\u001b[0m 829ms/step - loss: 0.5469 - rec@prec: 0.8330\n",
            "Epoch 8: val_rec@prec improved from 0.40983 to 0.43282, saving model to model.weights.h5\n",
            "\u001b[1m22/22\u001b[0m \u001b[32m━━━━━━━━━━━━━━━━━━━━\u001b[0m\u001b[37m\u001b[0m \u001b[1m19s\u001b[0m 854ms/step - loss: 0.5463 - rec@prec: 0.8334 - val_loss: 1.6770 - val_rec@prec: 0.4328\n",
            "Epoch 9/100\n",
            "\u001b[1m22/22\u001b[0m \u001b[32m━━━━━━━━━━━━━━━━━━━━\u001b[0m\u001b[37m\u001b[0m \u001b[1m0s\u001b[0m 828ms/step - loss: 0.3960 - rec@prec: 0.9163\n",
            "Epoch 9: val_rec@prec improved from 0.43282 to 0.44950, saving model to model.weights.h5\n",
            "\u001b[1m22/22\u001b[0m \u001b[32m━━━━━━━━━━━━━━━━━━━━\u001b[0m\u001b[37m\u001b[0m \u001b[1m19s\u001b[0m 854ms/step - loss: 0.3962 - rec@prec: 0.9161 - val_loss: 1.8344 - val_rec@prec: 0.4495\n",
            "Epoch 10/100\n",
            "\u001b[1m22/22\u001b[0m \u001b[32m━━━━━━━━━━━━━━━━━━━━\u001b[0m\u001b[37m\u001b[0m \u001b[1m0s\u001b[0m 830ms/step - loss: 0.3405 - rec@prec: 0.9426\n",
            "Epoch 10: val_rec@prec did not improve from 0.44950\n",
            "\u001b[1m22/22\u001b[0m \u001b[32m━━━━━━━━━━━━━━━━━━━━\u001b[0m\u001b[37m\u001b[0m \u001b[1m19s\u001b[0m 844ms/step - loss: 0.3490 - rec@prec: 0.9395 - val_loss: 1.7377 - val_rec@prec: 0.3318\n",
            "Epoch 11/100\n",
            "\u001b[1m22/22\u001b[0m \u001b[32m━━━━━━━━━━━━━━━━━━━━\u001b[0m\u001b[37m\u001b[0m \u001b[1m0s\u001b[0m 823ms/step - loss: 0.5554 - rec@prec: 0.8023\n",
            "Epoch 11: val_rec@prec improved from 0.44950 to 0.51262, saving model to model.weights.h5\n",
            "\u001b[1m22/22\u001b[0m \u001b[32m━━━━━━━━━━━━━━━━━━━━\u001b[0m\u001b[37m\u001b[0m \u001b[1m19s\u001b[0m 854ms/step - loss: 0.5528 - rec@prec: 0.8053 - val_loss: 1.4612 - val_rec@prec: 0.5126\n",
            "Epoch 12/100\n",
            "\u001b[1m22/22\u001b[0m \u001b[32m━━━━━━━━━━━━━━━━━━━━\u001b[0m\u001b[37m\u001b[0m \u001b[1m0s\u001b[0m 824ms/step - loss: 0.2667 - rec@prec: 0.9682\n",
            "Epoch 12: val_rec@prec did not improve from 0.51262\n",
            "\u001b[1m22/22\u001b[0m \u001b[32m━━━━━━━━━━━━━━━━━━━━\u001b[0m\u001b[37m\u001b[0m \u001b[1m18s\u001b[0m 838ms/step - loss: 0.2660 - rec@prec: 0.9684 - val_loss: 1.9611 - val_rec@prec: 0.5077\n",
            "Epoch 13/100\n",
            "\u001b[1m22/22\u001b[0m \u001b[32m━━━━━━━━━━━━━━━━━━━━\u001b[0m\u001b[37m\u001b[0m \u001b[1m0s\u001b[0m 825ms/step - loss: 0.1288 - rec@prec: 0.9934\n",
            "Epoch 13: val_rec@prec did not improve from 0.51262\n",
            "\u001b[1m22/22\u001b[0m \u001b[32m━━━━━━━━━━━━━━━━━━━━\u001b[0m\u001b[37m\u001b[0m \u001b[1m18s\u001b[0m 839ms/step - loss: 0.1289 - rec@prec: 0.9934 - val_loss: 2.3405 - val_rec@prec: 0.4932\n",
            "Epoch 14/100\n",
            "\u001b[1m22/22\u001b[0m \u001b[32m━━━━━━━━━━━━━━━━━━━━\u001b[0m\u001b[37m\u001b[0m \u001b[1m0s\u001b[0m 813ms/step - loss: 0.0752 - rec@prec: 0.9974\n",
            "Epoch 14: val_rec@prec did not improve from 0.51262\n",
            "\u001b[1m22/22\u001b[0m \u001b[32m━━━━━━━━━━━━━━━━━━━━\u001b[0m\u001b[37m\u001b[0m \u001b[1m18s\u001b[0m 827ms/step - loss: 0.0751 - rec@prec: 0.9974 - val_loss: 2.6810 - val_rec@prec: 0.4766\n",
            "Epoch 14: early stopping\n"
          ]
        },
        {
          "output_type": "execute_result",
          "data": {
            "text/plain": [
              "<keras.src.callbacks.history.History at 0x7d30cb3c6b10>"
            ]
          },
          "metadata": {},
          "execution_count": 51
        }
      ]
    },
    {
      "cell_type": "code",
      "source": [
        "print(model_unet.history.history.keys())\n",
        "# summarize history for accuracy\n",
        "plt.plot(model_unet.history.history['rec@prec'])\n",
        "plt.plot(model_unet.history.history['val_rec@prec'])\n",
        "plt.title('model metrics')\n",
        "plt.ylabel('recall at precision')\n",
        "plt.xlabel('epoch')\n",
        "plt.legend(['train', 'val'], loc='upper left')\n",
        "plt.show()"
      ],
      "metadata": {
        "colab": {
          "base_uri": "https://localhost:8080/",
          "height": 489
        },
        "id": "dYG0bpOflxRx",
        "outputId": "9013179f-ffd2-4a04-f26e-00df63cee57c"
      },
      "id": "dYG0bpOflxRx",
      "execution_count": 52,
      "outputs": [
        {
          "output_type": "stream",
          "name": "stdout",
          "text": [
            "dict_keys(['loss', 'rec@prec', 'val_loss', 'val_rec@prec'])\n"
          ]
        },
        {
          "output_type": "display_data",
          "data": {
            "text/plain": [
              "<Figure size 640x480 with 1 Axes>"
            ],
            "image/png": "[encoded data removed]"
          },
          "metadata": {}
        }
      ]
    }
  ],
  "metadata": {
    "kernelspec": {
      "display_name": "Python 3",
      "name": "python3"
    },
    "language_info": {
      "codemirror_mode": {
        "name": "ipython",
        "version": 3
      },
      "file_extension": ".py",
      "mimetype": "text/x-python",
      "name": "python",
      "nbconvert_exporter": "python",
      "pygments_lexer": "ipython3",
      "version": "3.11.7"
    },
    "colab": {
      "provenance": [],
      "gpuType": "T4"
    },
    "accelerator": "GPU"
  },
  "nbformat": 4,
  "nbformat_minor": 5
}